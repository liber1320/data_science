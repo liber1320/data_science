{
 "cells": [
  {
   "cell_type": "markdown",
   "metadata": {},
   "source": [
    "## Model #1"
   ]
  },
  {
   "cell_type": "markdown",
   "metadata": {},
   "source": [
    "This model is based on control group - people not previously affected by campaign."
   ]
  },
  {
   "cell_type": "code",
   "execution_count": 1,
   "metadata": {},
   "outputs": [],
   "source": [
    "import pandas as pd\n",
    "import numpy as np\n",
    "np.random.seed(2020)\n",
    "\n",
    "import matplotlib.pyplot as plt\n",
    "%matplotlib inline\n",
    "\n",
    "from sklearn.model_selection import learning_curve, train_test_split\n",
    "from sklearn.model_selection import cross_val_score, cross_val_predict, learning_curve\n",
    "from sklearn.model_selection import KFold, StratifiedKFold, GridSearchCV, StratifiedShuffleSplit\n",
    "\n",
    "from sklearn.metrics import accuracy_score, precision_score, recall_score, f1_score \n",
    "from sklearn.metrics import precision_recall_curve, confusion_matrix\n",
    "from sklearn.metrics import roc_auc_score, roc_curve\n",
    "\n",
    "from sklearn.dummy import DummyClassifier\n",
    "from sklearn.ensemble import RandomForestClassifier, GradientBoostingClassifier\n",
    "from sklearn.linear_model import LogisticRegression\n",
    "import xgboost as xgb\n",
    "\n",
    "import warnings\n",
    "warnings.filterwarnings('ignore')\n",
    "pd.options.display.max_columns = None"
   ]
  },
  {
   "cell_type": "code",
   "execution_count": 2,
   "metadata": {},
   "outputs": [],
   "source": [
    "df = pd.read_csv('bank_data_prediction_task.csv', index_col=0)\n",
    "df['y'] = df['y'].map(lambda x: 1 if x=='yes' else 0) "
   ]
  },
  {
   "cell_type": "code",
   "execution_count": 3,
   "metadata": {},
   "outputs": [
    {
     "name": "stdout",
     "output_type": "stream",
     "text": [
      "<class 'pandas.core.frame.DataFrame'>\n",
      "Int64Index: 24712 entries, 16477 to 41188\n",
      "Data columns (total 22 columns):\n",
      "age                  24712 non-null int64\n",
      "job                  24712 non-null object\n",
      "marital              24712 non-null object\n",
      "education            24712 non-null object\n",
      "default              24712 non-null object\n",
      "housing              24712 non-null object\n",
      "loan                 24712 non-null object\n",
      "contact              0 non-null object\n",
      "month                0 non-null object\n",
      "day_of_week          0 non-null object\n",
      "duration             0 non-null float64\n",
      "campaign             0 non-null float64\n",
      "pdays                24712 non-null int64\n",
      "previous             24712 non-null int64\n",
      "poutcome             24712 non-null object\n",
      "emp.var.rate         24712 non-null float64\n",
      "cons.price.idx       24599 non-null float64\n",
      "cons.conf.idx        24712 non-null float64\n",
      "euribor3m            24712 non-null float64\n",
      "nr.employed          24712 non-null float64\n",
      "y                    24712 non-null int64\n",
      "test_control_flag    24712 non-null object\n",
      "dtypes: float64(7), int64(4), object(11)\n",
      "memory usage: 4.3+ MB\n"
     ]
    }
   ],
   "source": [
    "df_cont = df[df['test_control_flag']=='control group']\n",
    "df_cont.info()"
   ]
  },
  {
   "cell_type": "code",
   "execution_count": 4,
   "metadata": {},
   "outputs": [
    {
     "data": {
      "text/html": [
       "<div>\n",
       "<style scoped>\n",
       "    .dataframe tbody tr th:only-of-type {\n",
       "        vertical-align: middle;\n",
       "    }\n",
       "\n",
       "    .dataframe tbody tr th {\n",
       "        vertical-align: top;\n",
       "    }\n",
       "\n",
       "    .dataframe thead th {\n",
       "        text-align: right;\n",
       "    }\n",
       "</style>\n",
       "<table border=\"1\" class=\"dataframe\">\n",
       "  <thead>\n",
       "    <tr style=\"text-align: right;\">\n",
       "      <th></th>\n",
       "      <th>age</th>\n",
       "      <th>job</th>\n",
       "      <th>marital</th>\n",
       "      <th>education</th>\n",
       "      <th>default</th>\n",
       "      <th>housing</th>\n",
       "      <th>loan</th>\n",
       "      <th>contact</th>\n",
       "      <th>month</th>\n",
       "      <th>day_of_week</th>\n",
       "      <th>duration</th>\n",
       "      <th>campaign</th>\n",
       "      <th>pdays</th>\n",
       "      <th>previous</th>\n",
       "      <th>poutcome</th>\n",
       "      <th>emp.var.rate</th>\n",
       "      <th>cons.price.idx</th>\n",
       "      <th>cons.conf.idx</th>\n",
       "      <th>euribor3m</th>\n",
       "      <th>nr.employed</th>\n",
       "      <th>y</th>\n",
       "      <th>test_control_flag</th>\n",
       "    </tr>\n",
       "  </thead>\n",
       "  <tbody>\n",
       "    <tr>\n",
       "      <th>18340</th>\n",
       "      <td>29</td>\n",
       "      <td>services</td>\n",
       "      <td>married</td>\n",
       "      <td>high.school</td>\n",
       "      <td>no</td>\n",
       "      <td>yes</td>\n",
       "      <td>no</td>\n",
       "      <td>NaN</td>\n",
       "      <td>NaN</td>\n",
       "      <td>NaN</td>\n",
       "      <td>NaN</td>\n",
       "      <td>NaN</td>\n",
       "      <td>999</td>\n",
       "      <td>0</td>\n",
       "      <td>nonexistent</td>\n",
       "      <td>1.1</td>\n",
       "      <td>93.994</td>\n",
       "      <td>-36.4</td>\n",
       "      <td>4.860</td>\n",
       "      <td>5191.0</td>\n",
       "      <td>0</td>\n",
       "      <td>control group</td>\n",
       "    </tr>\n",
       "    <tr>\n",
       "      <th>20913</th>\n",
       "      <td>55</td>\n",
       "      <td>unknown</td>\n",
       "      <td>married</td>\n",
       "      <td>unknown</td>\n",
       "      <td>unknown</td>\n",
       "      <td>no</td>\n",
       "      <td>no</td>\n",
       "      <td>NaN</td>\n",
       "      <td>NaN</td>\n",
       "      <td>NaN</td>\n",
       "      <td>NaN</td>\n",
       "      <td>NaN</td>\n",
       "      <td>999</td>\n",
       "      <td>0</td>\n",
       "      <td>nonexistent</td>\n",
       "      <td>1.1</td>\n",
       "      <td>93.994</td>\n",
       "      <td>-36.4</td>\n",
       "      <td>4.864</td>\n",
       "      <td>5191.0</td>\n",
       "      <td>0</td>\n",
       "      <td>control group</td>\n",
       "    </tr>\n",
       "    <tr>\n",
       "      <th>23919</th>\n",
       "      <td>33</td>\n",
       "      <td>self-employed</td>\n",
       "      <td>married</td>\n",
       "      <td>basic.9y</td>\n",
       "      <td>no</td>\n",
       "      <td>yes</td>\n",
       "      <td>no</td>\n",
       "      <td>NaN</td>\n",
       "      <td>NaN</td>\n",
       "      <td>NaN</td>\n",
       "      <td>NaN</td>\n",
       "      <td>NaN</td>\n",
       "      <td>999</td>\n",
       "      <td>0</td>\n",
       "      <td>nonexistent</td>\n",
       "      <td>1.4</td>\n",
       "      <td>93.918</td>\n",
       "      <td>-42.7</td>\n",
       "      <td>4.960</td>\n",
       "      <td>5228.1</td>\n",
       "      <td>0</td>\n",
       "      <td>control group</td>\n",
       "    </tr>\n",
       "    <tr>\n",
       "      <th>24601</th>\n",
       "      <td>33</td>\n",
       "      <td>blue-collar</td>\n",
       "      <td>single</td>\n",
       "      <td>basic.6y</td>\n",
       "      <td>no</td>\n",
       "      <td>no</td>\n",
       "      <td>no</td>\n",
       "      <td>NaN</td>\n",
       "      <td>NaN</td>\n",
       "      <td>NaN</td>\n",
       "      <td>NaN</td>\n",
       "      <td>NaN</td>\n",
       "      <td>999</td>\n",
       "      <td>0</td>\n",
       "      <td>nonexistent</td>\n",
       "      <td>1.4</td>\n",
       "      <td>93.918</td>\n",
       "      <td>-42.7</td>\n",
       "      <td>4.963</td>\n",
       "      <td>5228.1</td>\n",
       "      <td>1</td>\n",
       "      <td>control group</td>\n",
       "    </tr>\n",
       "    <tr>\n",
       "      <th>39076</th>\n",
       "      <td>73</td>\n",
       "      <td>retired</td>\n",
       "      <td>married</td>\n",
       "      <td>basic.4y</td>\n",
       "      <td>unknown</td>\n",
       "      <td>no</td>\n",
       "      <td>no</td>\n",
       "      <td>NaN</td>\n",
       "      <td>NaN</td>\n",
       "      <td>NaN</td>\n",
       "      <td>NaN</td>\n",
       "      <td>NaN</td>\n",
       "      <td>999</td>\n",
       "      <td>0</td>\n",
       "      <td>nonexistent</td>\n",
       "      <td>-2.9</td>\n",
       "      <td>92.201</td>\n",
       "      <td>-31.4</td>\n",
       "      <td>0.854</td>\n",
       "      <td>5076.2</td>\n",
       "      <td>0</td>\n",
       "      <td>control group</td>\n",
       "    </tr>\n",
       "  </tbody>\n",
       "</table>\n",
       "</div>"
      ],
      "text/plain": [
       "       age            job  marital    education  default housing loan contact  \\\n",
       "18340   29       services  married  high.school       no     yes   no     NaN   \n",
       "20913   55        unknown  married      unknown  unknown      no   no     NaN   \n",
       "23919   33  self-employed  married     basic.9y       no     yes   no     NaN   \n",
       "24601   33    blue-collar   single     basic.6y       no      no   no     NaN   \n",
       "39076   73        retired  married     basic.4y  unknown      no   no     NaN   \n",
       "\n",
       "      month day_of_week  duration  campaign  pdays  previous     poutcome  \\\n",
       "18340   NaN         NaN       NaN       NaN    999         0  nonexistent   \n",
       "20913   NaN         NaN       NaN       NaN    999         0  nonexistent   \n",
       "23919   NaN         NaN       NaN       NaN    999         0  nonexistent   \n",
       "24601   NaN         NaN       NaN       NaN    999         0  nonexistent   \n",
       "39076   NaN         NaN       NaN       NaN    999         0  nonexistent   \n",
       "\n",
       "       emp.var.rate  cons.price.idx  cons.conf.idx  euribor3m  nr.employed  y  \\\n",
       "18340           1.1          93.994          -36.4      4.860       5191.0  0   \n",
       "20913           1.1          93.994          -36.4      4.864       5191.0  0   \n",
       "23919           1.4          93.918          -42.7      4.960       5228.1  0   \n",
       "24601           1.4          93.918          -42.7      4.963       5228.1  1   \n",
       "39076          -2.9          92.201          -31.4      0.854       5076.2  0   \n",
       "\n",
       "      test_control_flag  \n",
       "18340     control group  \n",
       "20913     control group  \n",
       "23919     control group  \n",
       "24601     control group  \n",
       "39076     control group  "
      ]
     },
     "execution_count": 4,
     "metadata": {},
     "output_type": "execute_result"
    }
   ],
   "source": [
    "df_cont.sample(5)"
   ]
  },
  {
   "cell_type": "code",
   "execution_count": 4,
   "metadata": {},
   "outputs": [],
   "source": [
    "camp_col = ['contact', 'month', 'day_of_week', 'duration', 'campaign',  \n",
    "            'previous', 'poutcome', 'test_control_flag', 'pdays']\n",
    "\n",
    "df_cont = df_cont.loc[:, df_cont.columns.isin(camp_col)==False].reset_index()\n",
    "del df_cont['index']"
   ]
  },
  {
   "cell_type": "code",
   "execution_count": 5,
   "metadata": {},
   "outputs": [
    {
     "data": {
      "text/plain": [
       "age               False\n",
       "job               False\n",
       "marital           False\n",
       "education         False\n",
       "default           False\n",
       "housing           False\n",
       "loan              False\n",
       "emp.var.rate      False\n",
       "cons.price.idx     True\n",
       "cons.conf.idx     False\n",
       "euribor3m         False\n",
       "nr.employed       False\n",
       "y                 False\n",
       "dtype: bool"
      ]
     },
     "execution_count": 5,
     "metadata": {},
     "output_type": "execute_result"
    }
   ],
   "source": [
    "df_cont.isnull().any()"
   ]
  },
  {
   "cell_type": "code",
   "execution_count": 8,
   "metadata": {},
   "outputs": [
    {
     "data": {
      "text/plain": [
       "113"
      ]
     },
     "execution_count": 8,
     "metadata": {},
     "output_type": "execute_result"
    }
   ],
   "source": [
    "len(df_cont[df_cont['cons.price.idx'].isnull()==True])"
   ]
  },
  {
   "cell_type": "code",
   "execution_count": 6,
   "metadata": {},
   "outputs": [],
   "source": [
    "cons_price_med = df_cont['cons.price.idx'].median()\n",
    "df_cont['cons.price.idx'] = df_cont['cons.price.idx'].fillna(cons_price_med)"
   ]
  },
  {
   "cell_type": "markdown",
   "metadata": {},
   "source": [
    "Due to fact that there is only 113 missing value for only one feature, I've decided to replace it with median of consumer price index."
   ]
  },
  {
   "cell_type": "code",
   "execution_count": 12,
   "metadata": {},
   "outputs": [
    {
     "data": {
      "text/plain": [
       "False"
      ]
     },
     "execution_count": 12,
     "metadata": {},
     "output_type": "execute_result"
    }
   ],
   "source": [
    "df_cont.isnull().any().any()"
   ]
  },
  {
   "cell_type": "code",
   "execution_count": 7,
   "metadata": {},
   "outputs": [],
   "source": [
    "def feat_eng(df):    \n",
    "    \"\"\"Function transforming input dataframe by adding new columns and modifing existing. \n",
    "    df -- dataframe to transform\n",
    "    \"\"\"\n",
    "    \n",
    "    basic = ['basic.9y', 'basic.6y', 'basic.4y']\n",
    "    df['education'] = df['education'].map(lambda x: 'basic' if x in(basic) else x)\n",
    "    \n",
    "    cat_feats = ['job', 'marital', 'education']\n",
    "    for cat_feat in cat_feats:\n",
    "        df['{0}_cat'.format(cat_feat)] = pd.factorize(df[cat_feat])[0]\n",
    "        \n",
    "    map_feat = ['default', 'housing', 'loan']\n",
    "    for f in map_feat:\n",
    "        df[f] = df[f].apply(\n",
    "        lambda x: 1 if x == 'yes' else 0 if x=='no' else -1)\n",
    "        \n",
    "    df['young'] = df['age'].apply(lambda x: 1 if x < 23 else 0 )\n",
    "    df['old'] = df['age'].apply(lambda x: 1 if x >= 60 else 0 )\n",
    "    df['student'] = df['job'].apply(lambda x: 1 if x=='student' else 0 )\n",
    "    df['retir'] = df['job'].apply(lambda x: 1 if x=='retired' else 0 )\n",
    "    df['minus_rate'] = df['emp.var.rate'].apply(lambda x: 1 if x < 0 else 0 )\n",
    "    \n",
    "    return df"
   ]
  },
  {
   "cell_type": "code",
   "execution_count": 8,
   "metadata": {},
   "outputs": [],
   "source": [
    "df_cont_ = feat_eng(df_cont)"
   ]
  },
  {
   "cell_type": "code",
   "execution_count": 15,
   "metadata": {},
   "outputs": [
    {
     "data": {
      "text/html": [
       "<div>\n",
       "<style scoped>\n",
       "    .dataframe tbody tr th:only-of-type {\n",
       "        vertical-align: middle;\n",
       "    }\n",
       "\n",
       "    .dataframe tbody tr th {\n",
       "        vertical-align: top;\n",
       "    }\n",
       "\n",
       "    .dataframe thead th {\n",
       "        text-align: right;\n",
       "    }\n",
       "</style>\n",
       "<table border=\"1\" class=\"dataframe\">\n",
       "  <thead>\n",
       "    <tr style=\"text-align: right;\">\n",
       "      <th></th>\n",
       "      <th>age</th>\n",
       "      <th>job</th>\n",
       "      <th>marital</th>\n",
       "      <th>education</th>\n",
       "      <th>default</th>\n",
       "      <th>housing</th>\n",
       "      <th>loan</th>\n",
       "      <th>emp.var.rate</th>\n",
       "      <th>cons.price.idx</th>\n",
       "      <th>cons.conf.idx</th>\n",
       "      <th>euribor3m</th>\n",
       "      <th>nr.employed</th>\n",
       "      <th>y</th>\n",
       "      <th>job_cat</th>\n",
       "      <th>marital_cat</th>\n",
       "      <th>education_cat</th>\n",
       "      <th>young</th>\n",
       "      <th>old</th>\n",
       "      <th>student</th>\n",
       "      <th>retir</th>\n",
       "      <th>minus_rate</th>\n",
       "    </tr>\n",
       "  </thead>\n",
       "  <tbody>\n",
       "    <tr>\n",
       "      <th>13443</th>\n",
       "      <td>41</td>\n",
       "      <td>housemaid</td>\n",
       "      <td>married</td>\n",
       "      <td>university.degree</td>\n",
       "      <td>0</td>\n",
       "      <td>1</td>\n",
       "      <td>0</td>\n",
       "      <td>1.4</td>\n",
       "      <td>93.444</td>\n",
       "      <td>-36.1</td>\n",
       "      <td>4.963</td>\n",
       "      <td>5228.1</td>\n",
       "      <td>0</td>\n",
       "      <td>0</td>\n",
       "      <td>0</td>\n",
       "      <td>4</td>\n",
       "      <td>0</td>\n",
       "      <td>0</td>\n",
       "      <td>0</td>\n",
       "      <td>0</td>\n",
       "      <td>0</td>\n",
       "    </tr>\n",
       "    <tr>\n",
       "      <th>6197</th>\n",
       "      <td>56</td>\n",
       "      <td>blue-collar</td>\n",
       "      <td>single</td>\n",
       "      <td>basic</td>\n",
       "      <td>-1</td>\n",
       "      <td>0</td>\n",
       "      <td>0</td>\n",
       "      <td>1.4</td>\n",
       "      <td>94.465</td>\n",
       "      <td>-41.8</td>\n",
       "      <td>4.960</td>\n",
       "      <td>5228.1</td>\n",
       "      <td>0</td>\n",
       "      <td>3</td>\n",
       "      <td>1</td>\n",
       "      <td>0</td>\n",
       "      <td>0</td>\n",
       "      <td>0</td>\n",
       "      <td>0</td>\n",
       "      <td>0</td>\n",
       "      <td>0</td>\n",
       "    </tr>\n",
       "    <tr>\n",
       "      <th>9102</th>\n",
       "      <td>58</td>\n",
       "      <td>retired</td>\n",
       "      <td>married</td>\n",
       "      <td>high.school</td>\n",
       "      <td>0</td>\n",
       "      <td>1</td>\n",
       "      <td>0</td>\n",
       "      <td>1.4</td>\n",
       "      <td>93.918</td>\n",
       "      <td>-42.7</td>\n",
       "      <td>4.958</td>\n",
       "      <td>5228.1</td>\n",
       "      <td>0</td>\n",
       "      <td>7</td>\n",
       "      <td>0</td>\n",
       "      <td>1</td>\n",
       "      <td>0</td>\n",
       "      <td>0</td>\n",
       "      <td>0</td>\n",
       "      <td>1</td>\n",
       "      <td>0</td>\n",
       "    </tr>\n",
       "    <tr>\n",
       "      <th>19434</th>\n",
       "      <td>47</td>\n",
       "      <td>services</td>\n",
       "      <td>married</td>\n",
       "      <td>high.school</td>\n",
       "      <td>0</td>\n",
       "      <td>0</td>\n",
       "      <td>1</td>\n",
       "      <td>-1.8</td>\n",
       "      <td>92.893</td>\n",
       "      <td>-46.2</td>\n",
       "      <td>1.313</td>\n",
       "      <td>5099.1</td>\n",
       "      <td>0</td>\n",
       "      <td>1</td>\n",
       "      <td>0</td>\n",
       "      <td>1</td>\n",
       "      <td>0</td>\n",
       "      <td>0</td>\n",
       "      <td>0</td>\n",
       "      <td>0</td>\n",
       "      <td>1</td>\n",
       "    </tr>\n",
       "    <tr>\n",
       "      <th>2768</th>\n",
       "      <td>40</td>\n",
       "      <td>admin.</td>\n",
       "      <td>married</td>\n",
       "      <td>university.degree</td>\n",
       "      <td>0</td>\n",
       "      <td>0</td>\n",
       "      <td>0</td>\n",
       "      <td>1.1</td>\n",
       "      <td>93.994</td>\n",
       "      <td>-36.4</td>\n",
       "      <td>4.858</td>\n",
       "      <td>5191.0</td>\n",
       "      <td>0</td>\n",
       "      <td>2</td>\n",
       "      <td>0</td>\n",
       "      <td>4</td>\n",
       "      <td>0</td>\n",
       "      <td>0</td>\n",
       "      <td>0</td>\n",
       "      <td>0</td>\n",
       "      <td>0</td>\n",
       "    </tr>\n",
       "  </tbody>\n",
       "</table>\n",
       "</div>"
      ],
      "text/plain": [
       "       age          job  marital          education  default  housing  loan  \\\n",
       "13443   41    housemaid  married  university.degree        0        1     0   \n",
       "6197    56  blue-collar   single              basic       -1        0     0   \n",
       "9102    58      retired  married        high.school        0        1     0   \n",
       "19434   47     services  married        high.school        0        0     1   \n",
       "2768    40       admin.  married  university.degree        0        0     0   \n",
       "\n",
       "       emp.var.rate  cons.price.idx  cons.conf.idx  euribor3m  nr.employed  y  \\\n",
       "13443           1.4          93.444          -36.1      4.963       5228.1  0   \n",
       "6197            1.4          94.465          -41.8      4.960       5228.1  0   \n",
       "9102            1.4          93.918          -42.7      4.958       5228.1  0   \n",
       "19434          -1.8          92.893          -46.2      1.313       5099.1  0   \n",
       "2768            1.1          93.994          -36.4      4.858       5191.0  0   \n",
       "\n",
       "       job_cat  marital_cat  education_cat  young  old  student  retir  \\\n",
       "13443        0            0              4      0    0        0      0   \n",
       "6197         3            1              0      0    0        0      0   \n",
       "9102         7            0              1      0    0        0      1   \n",
       "19434        1            0              1      0    0        0      0   \n",
       "2768         2            0              4      0    0        0      0   \n",
       "\n",
       "       minus_rate  \n",
       "13443           0  \n",
       "6197            0  \n",
       "9102            0  \n",
       "19434           1  \n",
       "2768            0  "
      ]
     },
     "execution_count": 15,
     "metadata": {},
     "output_type": "execute_result"
    }
   ],
   "source": [
    "df_cont_.sample(5)"
   ]
  },
  {
   "cell_type": "markdown",
   "metadata": {},
   "source": [
    "As a result of transformations new features have been created. Furthermore, categorical values have been replaced by numeric. In case of education, categories for basic education have been aggregated into one bucket."
   ]
  },
  {
   "cell_type": "markdown",
   "metadata": {},
   "source": [
    "After number of experiments I've choosen only subset of features:"
   ]
  },
  {
   "cell_type": "code",
   "execution_count": 9,
   "metadata": {},
   "outputs": [],
   "source": [
    "features = ['age','default', 'housing', 'loan', 'euribor3m',\n",
    "            'emp.var.rate', 'cons.price.idx', 'cons.conf.idx',\n",
    "            'job_cat', 'marital_cat', 'education_cat']\n",
    "\n",
    "X_cv = df_cont_.loc[:, features]\n",
    "y_cv = df_cont_.loc[:, 'y']"
   ]
  },
  {
   "cell_type": "markdown",
   "metadata": {},
   "source": [
    "Cross validation have been prepared to assure proper validation and calculation of success metrics."
   ]
  },
  {
   "cell_type": "code",
   "execution_count": 10,
   "metadata": {},
   "outputs": [],
   "source": [
    "def my_cv (m, x, y): \n",
    "    \"\"\"Function performs cross validation and calculates mean of success metrics: \n",
    "    precision, recall and f1.   \n",
    "    m -- model to test\n",
    "    X -- features to fit model\n",
    "    y -- target variable\n",
    "    \"\"\"\n",
    "    cv = StratifiedKFold(n_splits=5, random_state=2020, shuffle=True)    \n",
    "    scores_r = []\n",
    "    scores_p = []\n",
    "    scores_f = []\n",
    "    \n",
    "    for train_idx, test_idx in cv.split(x,y):  \n",
    "        model = m \n",
    "        model.fit(x.loc[train_idx], y[train_idx])\n",
    "        y_pred = model.predict(x.loc[test_idx])  \n",
    "        \n",
    "        score1 = recall_score(y[test_idx], y_pred)\n",
    "        score2 = precision_score(y[test_idx], y_pred)\n",
    "        score3 = f1_score(y[test_idx], y_pred)\n",
    "        \n",
    "        scores_r.append(score1)\n",
    "        scores_p.append(score2)\n",
    "        scores_f.append(score3)     \n",
    "        \n",
    "    return round(np.mean(scores_r),3), round(np.mean(scores_p),3), round(np.mean(scores_f),3)"
   ]
  },
  {
   "cell_type": "markdown",
   "metadata": {},
   "source": [
    "I've verified performance of solution with the use of few models with some regularization added."
   ]
  },
  {
   "cell_type": "code",
   "execution_count": 19,
   "metadata": {},
   "outputs": [
    {
     "name": "stdout",
     "output_type": "stream",
     "text": [
      "     Model      \t (recall, precision, f1)\n",
      "DummyClassifier \t (0.098, 0.102, 0.1)\n",
      "LogisticRegression \t (0.0, 0.0, 0.0)\n",
      "RandomForestClassifier \t (0.027, 0.462, 0.05)\n",
      "GradientBoostingClassifier \t (0.126, 0.483, 0.2)\n",
      "XGBClassifier \t (0.078, 0.461, 0.134)\n"
     ]
    }
   ],
   "source": [
    "models = [DummyClassifier(random_state=2020),\n",
    "          LogisticRegression(random_state=2020),\n",
    "          RandomForestClassifier(random_state=2020, max_depth=6),\n",
    "          GradientBoostingClassifier(random_state=2020, max_depth=5),\n",
    "          xgb.XGBClassifier(random_state=2020, max_depth=5, n_estimators=100)]\n",
    "\n",
    "print('     Model      ''\\t'' (recall, precision, f1)')\n",
    "for m in models:\n",
    "    print(type(m).__name__, '\\t', my_cv(m, X_cv, y_cv))"
   ]
  },
  {
   "cell_type": "markdown",
   "metadata": {},
   "source": [
    "All models have small recall, they have problems with detect all potential clients. Level of recall is comparable with dummy classifier, what is of course not satisfactioning. However, models have about 40-50% of precision what is much better than in case of dummy model."
   ]
  },
  {
   "cell_type": "markdown",
   "metadata": {},
   "source": [
    "In further analysis I've choosen GradientBoostingClassifier as a classificator with best f1 score. In my opinion in this task f1 is an optimal success metric. Compromise between precision and recall seems to be important. Budget is limited so there is no place to call to many people with low probability of subscrbing. Furthermore, we want to identity clients precisely, it is not reasonable to offer term deposit to people which are for example in poor financial condition."
   ]
  },
  {
   "cell_type": "markdown",
   "metadata": {},
   "source": [
    "Some hyperparameters have been found using hyperopt. Results of searching are available [here](#hyp)."
   ]
  },
  {
   "cell_type": "markdown",
   "metadata": {},
   "source": [
    "#### Final model:"
   ]
  },
  {
   "cell_type": "code",
   "execution_count": 20,
   "metadata": {},
   "outputs": [],
   "source": [
    "m = GradientBoostingClassifier(max_depth=5, n_estimators=100, min_samples_split=2,\n",
    "                               learning_rate=0.19962839911665375, random_state=2020)"
   ]
  },
  {
   "cell_type": "code",
   "execution_count": 21,
   "metadata": {},
   "outputs": [
    {
     "data": {
      "text/plain": [
       "(0.162, 0.441, 0.236)"
      ]
     },
     "execution_count": 21,
     "metadata": {},
     "output_type": "execute_result"
    }
   ],
   "source": [
    "my_cv(m, X_cv, y_cv)"
   ]
  },
  {
   "cell_type": "markdown",
   "metadata": {},
   "source": [
    "F1 is higher than before. Recall has increased in about 4%. "
   ]
  },
  {
   "cell_type": "markdown",
   "metadata": {},
   "source": [
    "### Learning curves"
   ]
  },
  {
   "cell_type": "code",
   "execution_count": 22,
   "metadata": {},
   "outputs": [],
   "source": [
    "def plot_learning_curve(estimator, X, y, score='f1', ylim=None, cv=None,\n",
    "                        n_jobs=None, train_sizes=np.linspace(.5, 1.0, 6)):\n",
    "    plt.figure(figsize=(15, 5))\n",
    "    if ylim is not None:\n",
    "        plt.ylim(*ylim)\n",
    "    plt.xlabel(\"Training examples\")\n",
    "    plt.ylabel(\"Score\")\n",
    "    train_sizes, train_scores, test_scores = learning_curve(estimator, X, y, cv=cv, n_jobs=n_jobs,\n",
    "                                                            train_sizes=train_sizes, scoring=score)\n",
    "    train_scores_mean = np.mean(train_scores, axis=1)\n",
    "    train_scores_std = np.std(train_scores, axis=1)\n",
    "    test_scores_mean = np.mean(test_scores, axis=1)\n",
    "    test_scores_std = np.std(test_scores, axis=1)\n",
    "    plt.grid()\n",
    "    plt.fill_between(train_sizes, train_scores_mean - train_scores_std,\n",
    "                     train_scores_mean + train_scores_std, alpha=0.1, color=\"r\")\n",
    "    plt.fill_between(train_sizes, test_scores_mean - test_scores_std,\n",
    "                     test_scores_mean + test_scores_std, alpha=0.1, color=\"g\")\n",
    "    plt.plot(train_sizes, train_scores_mean, 'o-', color=\"r\",label=\"Training score\")\n",
    "    plt.plot(train_sizes, test_scores_mean, 'o-', color=\"g\",label=\"Cross-validation score\")\n",
    "    plt.title(type(estimator).__name__)\n",
    "    plt.legend(loc=\"best\")\n",
    "    return plt"
   ]
  },
  {
   "cell_type": "code",
   "execution_count": 23,
   "metadata": {},
   "outputs": [
    {
     "data": {
      "image/png": "[encoded data removed]",
      "text/plain": [
       "<Figure size 1080x360 with 1 Axes>"
      ]
     },
     "metadata": {
      "needs_background": "light"
     },
     "output_type": "display_data"
    }
   ],
   "source": [
    "cv = StratifiedKFold(n_splits=4, random_state=2020, shuffle=True)\n",
    "plot_learning_curve(m, X_cv, y_cv, ylim=(0.05, 0.9), cv=cv);"
   ]
  },
  {
   "cell_type": "markdown",
   "metadata": {},
   "source": [
    "Learning curves show that model is unfortunately overfitted. Better hyperparameter optimization or adding more data could be helpful."
   ]
  },
  {
   "cell_type": "markdown",
   "metadata": {},
   "source": [
    "### Precision - recall curves"
   ]
  },
  {
   "cell_type": "code",
   "execution_count": 24,
   "metadata": {},
   "outputs": [],
   "source": [
    "def plot_precision_vs_recall(precisions, recalls):    \n",
    "    plt.plot(recalls, precisions, \"b-\", linewidth=2)    \n",
    "    plt.xlabel(\"Recall\", fontsize=14)\n",
    "    plt.ylabel(\"Precision\", fontsize=14)   \n",
    "    plt.axis([0, 1, 0, 1])"
   ]
  },
  {
   "cell_type": "code",
   "execution_count": 25,
   "metadata": {},
   "outputs": [
    {
     "data": {
      "image/png": "[encoded data removed]",
      "text/plain": [
       "<Figure size 576x432 with 1 Axes>"
      ]
     },
     "metadata": {
      "needs_background": "light"
     },
     "output_type": "display_data"
    }
   ],
   "source": [
    "cv = StratifiedKFold(n_splits=4, random_state=2020, shuffle=True)\n",
    "y_predict = cross_val_predict(m, X_cv, y_cv, cv=cv, method='predict_proba')\n",
    "y_pred = y_predict[:,-1]   \n",
    "precisions, recalls,thresholds = precision_recall_curve(y_cv, y_pred) \n",
    "    \n",
    "plt.figure(figsize=(8, 6))\n",
    "plot_precision_vs_recall(precisions, recalls)\n",
    "plt.show()"
   ]
  },
  {
   "cell_type": "code",
   "execution_count": 26,
   "metadata": {},
   "outputs": [],
   "source": [
    "def plot_precision_recall_vs_threshold(precisions, recalls, thresholds):   \n",
    "    plt.plot(thresholds, precisions[:-1], \"b--\", label=\"Precision\", linewidth=2)\n",
    "    plt.plot(thresholds, recalls[:-1], \"g-\", label=\"Recall\", linewidth=2)    \n",
    "    plt.xlabel(\"Threshold\", fontsize=12)\n",
    "    plt.legend(loc=\"down right\", fontsize=10)"
   ]
  },
  {
   "cell_type": "code",
   "execution_count": 27,
   "metadata": {},
   "outputs": [
    {
     "data": {
      "image/png": "[encoded data removed]",
      "text/plain": [
       "<Figure size 576x432 with 1 Axes>"
      ]
     },
     "metadata": {
      "needs_background": "light"
     },
     "output_type": "display_data"
    }
   ],
   "source": [
    "cv = StratifiedKFold(n_splits=4, random_state=2020, shuffle=True)\n",
    "y_predict = cross_val_predict(m, X_cv, y_cv, cv=cv, method='predict_proba')\n",
    "y_pred = y_predict[:,-1]\n",
    "precisions, recalls, thresholds = precision_recall_curve(y_cv, y_pred)  \n",
    "    \n",
    "plt.figure(figsize=(8, 6))\n",
    "plot_precision_recall_vs_threshold(precisions, recalls, thresholds)\n",
    "plt.show()"
   ]
  },
  {
   "cell_type": "markdown",
   "metadata": {},
   "source": [
    "Precision recall curves give evidences that performance of model can change using different threshold in classification algorithms.\n",
    "Default threshold is 0.5. Changing it below 0.3 results in much higher recall with about 5% decrease in precision."
   ]
  },
  {
   "cell_type": "markdown",
   "metadata": {},
   "source": [
    "### ROC curve"
   ]
  },
  {
   "cell_type": "code",
   "execution_count": 28,
   "metadata": {},
   "outputs": [],
   "source": [
    "def plot_roc_curve(fpr, tpr, label=None):     \n",
    "    plt.plot(fpr, tpr, linewidth=2, label=label)\n",
    "    plt.plot([0, 1], [0, 1], 'k--')   \n",
    "    plt.axis([0, 1, 0, 1])    \n",
    "    plt.xlabel('False positive rate', fontsize=13)\n",
    "    plt.ylabel('True positive rate', fontsize=13)"
   ]
  },
  {
   "cell_type": "code",
   "execution_count": 29,
   "metadata": {},
   "outputs": [
    {
     "name": "stdout",
     "output_type": "stream",
     "text": [
      "roc auc score: 77.04%\n"
     ]
    },
    {
     "data": {
      "image/png": "[encoded data removed]",
      "text/plain": [
       "<Figure size 576x432 with 1 Axes>"
      ]
     },
     "metadata": {
      "needs_background": "light"
     },
     "output_type": "display_data"
    }
   ],
   "source": [
    "cv = StratifiedKFold(n_splits=4, random_state=2020, shuffle=True)\n",
    "y_predict = cross_val_predict(m, X_cv, y_cv, cv=cv, method='predict_proba')\n",
    "y_pred = y_predict[:,-1]    \n",
    "fpr, tpr, thresholds = roc_curve(y_cv, y_pred) \n",
    "    \n",
    "plt.figure(figsize=(8, 6))\n",
    "print('roc auc score: {}%'.format(round(roc_auc_score(y_cv, y_pred)*100,2)))    \n",
    "plot_roc_curve(fpr, tpr)\n",
    "plt.show()"
   ]
  },
  {
   "cell_type": "markdown",
   "metadata": {},
   "source": [
    "ROC curve shows that model is not ideal. When level of recall is higher than 60%, rate of false positive increases much faster."
   ]
  },
  {
   "cell_type": "markdown",
   "metadata": {},
   "source": [
    "### Threshold modification"
   ]
  },
  {
   "cell_type": "code",
   "execution_count": 30,
   "metadata": {},
   "outputs": [],
   "source": [
    "def train_and_predict(model, X, y, test_size=0.3, threshold=0.5, matrix=False):   \n",
    "    \n",
    "    \"\"\"Function splits data into train, test set, calculates probabilities based on given threshold and \n",
    "    success metrics.\n",
    "    model -- model to test\n",
    "    X -- features to fit model\n",
    "    y -- target variable\n",
    "    test_size -- proportions how to split data into train and test\n",
    "    threshold -- probability used to make decision\n",
    "    matrix -- boolean flag used to print confusion matrix\n",
    "    \"\"\"\n",
    "    X_train, X_test, y_train, y_test = train_test_split(X, y, test_size=0.3, random_state=2020) \n",
    "\n",
    "    model.fit(X_train, y_train)    \n",
    "    y_pred = model.predict_proba(X_test)[:,-1] \n",
    "    y_pred_ = np.where(y_pred >= threshold, 1, 0)\n",
    "        \n",
    "    prec = np.round(precision_score(y_test, y_pred_),3)\n",
    "    recc = np.round(recall_score(y_test, y_pred_),3)\n",
    "    f1 = np.round(f1_score(y_test, y_pred_),3)\n",
    "    \n",
    "    if matrix==True:\n",
    "        print('confusion matrix','\\n',confusion_matrix(y_test, y_pred_))\n",
    "        \n",
    "    print('recall, precision, f1')  \n",
    "    \n",
    "    return recc, prec, f1"
   ]
  },
  {
   "cell_type": "code",
   "execution_count": 31,
   "metadata": {},
   "outputs": [],
   "source": [
    "m = GradientBoostingClassifier(max_depth=5, n_estimators=100, min_samples_split=2,\n",
    "                               learning_rate=0.19962839911665375, random_state=2020)"
   ]
  },
  {
   "cell_type": "code",
   "execution_count": 32,
   "metadata": {},
   "outputs": [
    {
     "name": "stdout",
     "output_type": "stream",
     "text": [
      "confusion matrix \n",
      " [[6592  116]\n",
      " [ 613   93]]\n",
      "recall, precision, f1\n"
     ]
    },
    {
     "data": {
      "text/plain": [
       "(0.132, 0.445, 0.203)"
      ]
     },
     "execution_count": 32,
     "metadata": {},
     "output_type": "execute_result"
    }
   ],
   "source": [
    "train_and_predict(model=m, X=X_cv, y=y_cv, test_size=0.3, threshold=0.5, matrix=True)"
   ]
  },
  {
   "cell_type": "code",
   "execution_count": 33,
   "metadata": {},
   "outputs": [
    {
     "name": "stdout",
     "output_type": "stream",
     "text": [
      "confusion matrix \n",
      " [[6366  342]\n",
      " [ 487  219]]\n",
      "recall, precision, f1\n"
     ]
    },
    {
     "data": {
      "text/plain": [
       "(0.31, 0.39, 0.346)"
      ]
     },
     "execution_count": 33,
     "metadata": {},
     "output_type": "execute_result"
    }
   ],
   "source": [
    "train_and_predict(model=m, X=X_cv, y=y_cv, test_size=0.3, threshold=0.3, matrix=True)"
   ]
  },
  {
   "cell_type": "code",
   "execution_count": 34,
   "metadata": {},
   "outputs": [
    {
     "name": "stdout",
     "output_type": "stream",
     "text": [
      "confusion matrix \n",
      " [[6272  436]\n",
      " [ 442  264]]\n",
      "recall, precision, f1\n"
     ]
    },
    {
     "data": {
      "text/plain": [
       "(0.374, 0.377, 0.376)"
      ]
     },
     "execution_count": 34,
     "metadata": {},
     "output_type": "execute_result"
    }
   ],
   "source": [
    "train_and_predict(model=m, X=X_cv, y=y_cv, test_size=0.3, threshold=0.25, matrix=True)"
   ]
  },
  {
   "cell_type": "markdown",
   "metadata": {},
   "source": [
    "Manipulating of threshold allows to get different values of success metrics. Changing threshold to 0.25 may be in this case reasonable. Precision and recall are on the same level (37%). We dont't take into consideration clients with lowest probabilities, others are potentially interesting."
   ]
  },
  {
   "cell_type": "markdown",
   "metadata": {},
   "source": [
    "### Feature importances"
   ]
  },
  {
   "cell_type": "code",
   "execution_count": 35,
   "metadata": {},
   "outputs": [
    {
     "name": "stderr",
     "output_type": "stream",
     "text": [
      "Using TensorFlow backend.\n"
     ]
    }
   ],
   "source": [
    "import eli5\n",
    "from eli5.sklearn import PermutationImportance\n",
    "from eli5.permutation_importance import get_score_importances"
   ]
  },
  {
   "cell_type": "code",
   "execution_count": 36,
   "metadata": {},
   "outputs": [],
   "source": [
    "model = GradientBoostingClassifier(max_depth=5, n_estimators=100, min_samples_split=2,\n",
    "                                   learning_rate=0.19962839911665375, random_state=2020)"
   ]
  },
  {
   "cell_type": "code",
   "execution_count": 37,
   "metadata": {},
   "outputs": [],
   "source": [
    "model.fit(X_cv, y_cv)\n",
    "imp = PermutationImportance(model, random_state=2020).fit(X_cv, y_cv)"
   ]
  },
  {
   "cell_type": "code",
   "execution_count": 38,
   "metadata": {},
   "outputs": [
    {
     "data": {
      "text/html": [
       "\n",
       "    <style>\n",
       "    table.eli5-weights tr:hover {\n",
       "        filter: brightness(85%);\n",
       "    }\n",
       "</style>\n",
       "\n",
       "\n",
       "\n",
       "    \n",
       "\n",
       "    \n",
       "\n",
       "    \n",
       "\n",
       "    \n",
       "\n",
       "    \n",
       "\n",
       "    \n",
       "\n",
       "\n",
       "    \n",
       "\n",
       "    \n",
       "\n",
       "    \n",
       "\n",
       "    \n",
       "\n",
       "    \n",
       "\n",
       "    \n",
       "\n",
       "\n",
       "    \n",
       "\n",
       "    \n",
       "\n",
       "    \n",
       "\n",
       "    \n",
       "\n",
       "    \n",
       "        <table class=\"eli5-weights eli5-feature-importances\" style=\"border-collapse: collapse; border: none; margin-top: 0em; table-layout: auto;\">\n",
       "    <thead>\n",
       "    <tr style=\"border: none;\">\n",
       "        <th style=\"padding: 0 1em 0 0.5em; text-align: right; border: none;\">Weight</th>\n",
       "        <th style=\"padding: 0 0.5em 0 0.5em; text-align: left; border: none;\">Feature</th>\n",
       "    </tr>\n",
       "    </thead>\n",
       "    <tbody>\n",
       "    \n",
       "        <tr style=\"background-color: hsl(120, 100.00%, 80.00%); border: none;\">\n",
       "            <td style=\"padding: 0 1em 0 0.5em; text-align: right; border: none;\">\n",
       "                0.0719\n",
       "                \n",
       "                    &plusmn; 0.0018\n",
       "                \n",
       "            </td>\n",
       "            <td style=\"padding: 0 0.5em 0 0.5em; text-align: left; border: none;\">\n",
       "                emp.var.rate\n",
       "            </td>\n",
       "        </tr>\n",
       "    \n",
       "        <tr style=\"background-color: hsl(120, 100.00%, 85.42%); border: none;\">\n",
       "            <td style=\"padding: 0 1em 0 0.5em; text-align: right; border: none;\">\n",
       "                0.0458\n",
       "                \n",
       "                    &plusmn; 0.0022\n",
       "                \n",
       "            </td>\n",
       "            <td style=\"padding: 0 0.5em 0 0.5em; text-align: left; border: none;\">\n",
       "                euribor3m\n",
       "            </td>\n",
       "        </tr>\n",
       "    \n",
       "        <tr style=\"background-color: hsl(120, 100.00%, 91.93%); border: none;\">\n",
       "            <td style=\"padding: 0 1em 0 0.5em; text-align: right; border: none;\">\n",
       "                0.0197\n",
       "                \n",
       "                    &plusmn; 0.0014\n",
       "                \n",
       "            </td>\n",
       "            <td style=\"padding: 0 0.5em 0 0.5em; text-align: left; border: none;\">\n",
       "                age\n",
       "            </td>\n",
       "        </tr>\n",
       "    \n",
       "        <tr style=\"background-color: hsl(120, 100.00%, 93.11%); border: none;\">\n",
       "            <td style=\"padding: 0 1em 0 0.5em; text-align: right; border: none;\">\n",
       "                0.0157\n",
       "                \n",
       "                    &plusmn; 0.0007\n",
       "                \n",
       "            </td>\n",
       "            <td style=\"padding: 0 0.5em 0 0.5em; text-align: left; border: none;\">\n",
       "                cons.price.idx\n",
       "            </td>\n",
       "        </tr>\n",
       "    \n",
       "        <tr style=\"background-color: hsl(120, 100.00%, 93.95%); border: none;\">\n",
       "            <td style=\"padding: 0 1em 0 0.5em; text-align: right; border: none;\">\n",
       "                0.0130\n",
       "                \n",
       "                    &plusmn; 0.0010\n",
       "                \n",
       "            </td>\n",
       "            <td style=\"padding: 0 0.5em 0 0.5em; text-align: left; border: none;\">\n",
       "                cons.conf.idx\n",
       "            </td>\n",
       "        </tr>\n",
       "    \n",
       "        <tr style=\"background-color: hsl(120, 100.00%, 95.31%); border: none;\">\n",
       "            <td style=\"padding: 0 1em 0 0.5em; text-align: right; border: none;\">\n",
       "                0.0090\n",
       "                \n",
       "                    &plusmn; 0.0011\n",
       "                \n",
       "            </td>\n",
       "            <td style=\"padding: 0 0.5em 0 0.5em; text-align: left; border: none;\">\n",
       "                job_cat\n",
       "            </td>\n",
       "        </tr>\n",
       "    \n",
       "        <tr style=\"background-color: hsl(120, 100.00%, 96.38%); border: none;\">\n",
       "            <td style=\"padding: 0 1em 0 0.5em; text-align: right; border: none;\">\n",
       "                0.0062\n",
       "                \n",
       "                    &plusmn; 0.0004\n",
       "                \n",
       "            </td>\n",
       "            <td style=\"padding: 0 0.5em 0 0.5em; text-align: left; border: none;\">\n",
       "                education_cat\n",
       "            </td>\n",
       "        </tr>\n",
       "    \n",
       "        <tr style=\"background-color: hsl(120, 100.00%, 97.73%); border: none;\">\n",
       "            <td style=\"padding: 0 1em 0 0.5em; text-align: right; border: none;\">\n",
       "                0.0032\n",
       "                \n",
       "                    &plusmn; 0.0004\n",
       "                \n",
       "            </td>\n",
       "            <td style=\"padding: 0 0.5em 0 0.5em; text-align: left; border: none;\">\n",
       "                default\n",
       "            </td>\n",
       "        </tr>\n",
       "    \n",
       "        <tr style=\"background-color: hsl(120, 100.00%, 97.89%); border: none;\">\n",
       "            <td style=\"padding: 0 1em 0 0.5em; text-align: right; border: none;\">\n",
       "                0.0029\n",
       "                \n",
       "                    &plusmn; 0.0004\n",
       "                \n",
       "            </td>\n",
       "            <td style=\"padding: 0 0.5em 0 0.5em; text-align: left; border: none;\">\n",
       "                loan\n",
       "            </td>\n",
       "        </tr>\n",
       "    \n",
       "        <tr style=\"background-color: hsl(120, 100.00%, 98.12%); border: none;\">\n",
       "            <td style=\"padding: 0 1em 0 0.5em; text-align: right; border: none;\">\n",
       "                0.0024\n",
       "                \n",
       "                    &plusmn; 0.0005\n",
       "                \n",
       "            </td>\n",
       "            <td style=\"padding: 0 0.5em 0 0.5em; text-align: left; border: none;\">\n",
       "                housing\n",
       "            </td>\n",
       "        </tr>\n",
       "    \n",
       "        <tr style=\"background-color: hsl(120, 100.00%, 98.16%); border: none;\">\n",
       "            <td style=\"padding: 0 1em 0 0.5em; text-align: right; border: none;\">\n",
       "                0.0024\n",
       "                \n",
       "                    &plusmn; 0.0006\n",
       "                \n",
       "            </td>\n",
       "            <td style=\"padding: 0 0.5em 0 0.5em; text-align: left; border: none;\">\n",
       "                marital_cat\n",
       "            </td>\n",
       "        </tr>\n",
       "    \n",
       "    \n",
       "    </tbody>\n",
       "</table>\n",
       "    \n",
       "\n",
       "    \n",
       "\n",
       "\n",
       "    \n",
       "\n",
       "    \n",
       "\n",
       "    \n",
       "\n",
       "    \n",
       "\n",
       "    \n",
       "\n",
       "    \n",
       "\n",
       "\n",
       "\n"
      ],
      "text/plain": [
       "<IPython.core.display.HTML object>"
      ]
     },
     "execution_count": 38,
     "metadata": {},
     "output_type": "execute_result"
    }
   ],
   "source": [
    "eli5.show_weights(imp, feature_names=features)"
   ]
  },
  {
   "cell_type": "code",
   "execution_count": 39,
   "metadata": {},
   "outputs": [
    {
     "data": {
      "text/html": [
       "\n",
       "    <style>\n",
       "    table.eli5-weights tr:hover {\n",
       "        filter: brightness(85%);\n",
       "    }\n",
       "</style>\n",
       "\n",
       "\n",
       "\n",
       "    \n",
       "\n",
       "    \n",
       "\n",
       "    \n",
       "\n",
       "    \n",
       "\n",
       "    \n",
       "\n",
       "    \n",
       "\n",
       "\n",
       "    \n",
       "\n",
       "    \n",
       "\n",
       "    \n",
       "\n",
       "    \n",
       "\n",
       "    \n",
       "\n",
       "    \n",
       "\n",
       "\n",
       "    \n",
       "\n",
       "    \n",
       "\n",
       "    \n",
       "\n",
       "    \n",
       "\n",
       "    \n",
       "        <table class=\"eli5-weights eli5-feature-importances\" style=\"border-collapse: collapse; border: none; margin-top: 0em; table-layout: auto;\">\n",
       "    <thead>\n",
       "    <tr style=\"border: none;\">\n",
       "        <th style=\"padding: 0 1em 0 0.5em; text-align: right; border: none;\">Weight</th>\n",
       "        <th style=\"padding: 0 0.5em 0 0.5em; text-align: left; border: none;\">Feature</th>\n",
       "    </tr>\n",
       "    </thead>\n",
       "    <tbody>\n",
       "    \n",
       "        <tr style=\"background-color: hsl(120, 100.00%, 80.00%); border: none;\">\n",
       "            <td style=\"padding: 0 1em 0 0.5em; text-align: right; border: none;\">\n",
       "                0.5059\n",
       "                \n",
       "                    &plusmn; 0.2901\n",
       "                \n",
       "            </td>\n",
       "            <td style=\"padding: 0 0.5em 0 0.5em; text-align: left; border: none;\">\n",
       "                euribor3m\n",
       "            </td>\n",
       "        </tr>\n",
       "    \n",
       "        <tr style=\"background-color: hsl(120, 100.00%, 90.93%); border: none;\">\n",
       "            <td style=\"padding: 0 1em 0 0.5em; text-align: right; border: none;\">\n",
       "                0.1636\n",
       "                \n",
       "                    &plusmn; 0.2554\n",
       "                \n",
       "            </td>\n",
       "            <td style=\"padding: 0 0.5em 0 0.5em; text-align: left; border: none;\">\n",
       "                age\n",
       "            </td>\n",
       "        </tr>\n",
       "    \n",
       "        <tr style=\"background-color: hsl(120, 100.00%, 95.43%); border: none;\">\n",
       "            <td style=\"padding: 0 1em 0 0.5em; text-align: right; border: none;\">\n",
       "                0.0614\n",
       "                \n",
       "                    &plusmn; 0.1137\n",
       "                \n",
       "            </td>\n",
       "            <td style=\"padding: 0 0.5em 0 0.5em; text-align: left; border: none;\">\n",
       "                cons.conf.idx\n",
       "            </td>\n",
       "        </tr>\n",
       "    \n",
       "        <tr style=\"background-color: hsl(120, 100.00%, 95.71%); border: none;\">\n",
       "            <td style=\"padding: 0 1em 0 0.5em; text-align: right; border: none;\">\n",
       "                0.0560\n",
       "                \n",
       "                    &plusmn; 0.1342\n",
       "                \n",
       "            </td>\n",
       "            <td style=\"padding: 0 0.5em 0 0.5em; text-align: left; border: none;\">\n",
       "                emp.var.rate\n",
       "            </td>\n",
       "        </tr>\n",
       "    \n",
       "        <tr style=\"background-color: hsl(120, 100.00%, 95.82%); border: none;\">\n",
       "            <td style=\"padding: 0 1em 0 0.5em; text-align: right; border: none;\">\n",
       "                0.0542\n",
       "                \n",
       "                    &plusmn; 0.1134\n",
       "                \n",
       "            </td>\n",
       "            <td style=\"padding: 0 0.5em 0 0.5em; text-align: left; border: none;\">\n",
       "                cons.price.idx\n",
       "            </td>\n",
       "        </tr>\n",
       "    \n",
       "        <tr style=\"background-color: hsl(120, 100.00%, 96.16%); border: none;\">\n",
       "            <td style=\"padding: 0 1em 0 0.5em; text-align: right; border: none;\">\n",
       "                0.0479\n",
       "                \n",
       "                    &plusmn; 0.1422\n",
       "                \n",
       "            </td>\n",
       "            <td style=\"padding: 0 0.5em 0 0.5em; text-align: left; border: none;\">\n",
       "                job_cat\n",
       "            </td>\n",
       "        </tr>\n",
       "    \n",
       "        <tr style=\"background-color: hsl(120, 100.00%, 96.44%); border: none;\">\n",
       "            <td style=\"padding: 0 1em 0 0.5em; text-align: right; border: none;\">\n",
       "                0.0430\n",
       "                \n",
       "                    &plusmn; 0.1499\n",
       "                \n",
       "            </td>\n",
       "            <td style=\"padding: 0 0.5em 0 0.5em; text-align: left; border: none;\">\n",
       "                education_cat\n",
       "            </td>\n",
       "        </tr>\n",
       "    \n",
       "        <tr style=\"background-color: hsl(120, 100.00%, 97.85%); border: none;\">\n",
       "            <td style=\"padding: 0 1em 0 0.5em; text-align: right; border: none;\">\n",
       "                0.0209\n",
       "                \n",
       "                    &plusmn; 0.0781\n",
       "                \n",
       "            </td>\n",
       "            <td style=\"padding: 0 0.5em 0 0.5em; text-align: left; border: none;\">\n",
       "                housing\n",
       "            </td>\n",
       "        </tr>\n",
       "    \n",
       "        <tr style=\"background-color: hsl(120, 100.00%, 97.91%); border: none;\">\n",
       "            <td style=\"padding: 0 1em 0 0.5em; text-align: right; border: none;\">\n",
       "                0.0201\n",
       "                \n",
       "                    &plusmn; 0.0851\n",
       "                \n",
       "            </td>\n",
       "            <td style=\"padding: 0 0.5em 0 0.5em; text-align: left; border: none;\">\n",
       "                loan\n",
       "            </td>\n",
       "        </tr>\n",
       "    \n",
       "        <tr style=\"background-color: hsl(120, 100.00%, 97.99%); border: none;\">\n",
       "            <td style=\"padding: 0 1em 0 0.5em; text-align: right; border: none;\">\n",
       "                0.0189\n",
       "                \n",
       "                    &plusmn; 0.0911\n",
       "                \n",
       "            </td>\n",
       "            <td style=\"padding: 0 0.5em 0 0.5em; text-align: left; border: none;\">\n",
       "                marital_cat\n",
       "            </td>\n",
       "        </tr>\n",
       "    \n",
       "        <tr style=\"background-color: hsl(120, 100.00%, 98.90%); border: none;\">\n",
       "            <td style=\"padding: 0 1em 0 0.5em; text-align: right; border: none;\">\n",
       "                0.0080\n",
       "                \n",
       "                    &plusmn; 0.0505\n",
       "                \n",
       "            </td>\n",
       "            <td style=\"padding: 0 0.5em 0 0.5em; text-align: left; border: none;\">\n",
       "                default\n",
       "            </td>\n",
       "        </tr>\n",
       "    \n",
       "    \n",
       "    </tbody>\n",
       "</table>\n",
       "    \n",
       "\n",
       "    \n",
       "\n",
       "\n",
       "    \n",
       "\n",
       "    \n",
       "\n",
       "    \n",
       "\n",
       "    \n",
       "\n",
       "    \n",
       "\n",
       "    \n",
       "\n",
       "\n",
       "\n"
      ],
      "text/plain": [
       "<IPython.core.display.HTML object>"
      ]
     },
     "execution_count": 39,
     "metadata": {},
     "output_type": "execute_result"
    }
   ],
   "source": [
    "eli5.show_weights(model, feature_names=features)"
   ]
  },
  {
   "cell_type": "markdown",
   "metadata": {},
   "source": [
    "Analysis of feature importances confirms expectations. Euribor parameter, age, employment variation rate are most important features in this model."
   ]
  },
  {
   "cell_type": "markdown",
   "metadata": {},
   "source": [
    "<a id='hyp'></a>\n",
    "### Hyperparameters optimalization"
   ]
  },
  {
   "cell_type": "code",
   "execution_count": 40,
   "metadata": {},
   "outputs": [],
   "source": [
    "from functools import partial\n",
    "from hyperopt import hp\n",
    "from hyperopt import hp, fmin, tpe, STATUS_OK, Trials"
   ]
  },
  {
   "cell_type": "code",
   "execution_count": 37,
   "metadata": {},
   "outputs": [],
   "source": [
    "def my_cv_h (m, x, y):       \n",
    "    cv = StratifiedKFold(n_splits=5, random_state=2020, shuffle=True)    \n",
    "    scores_f = []\n",
    "    \n",
    "    for train_idx, test_idx in cv.split(x,y):  \n",
    "        model = m \n",
    "        model.fit(x.loc[train_idx], y[train_idx])\n",
    "        y_pred = model.predict(x.loc[test_idx])  \n",
    "        score3 = f1_score(y[test_idx], y_pred)\n",
    "        scores_f.append(score3)   \n",
    "        \n",
    "    return  round(np.mean(scores_f),3)"
   ]
  },
  {
   "cell_type": "code",
   "execution_count": 38,
   "metadata": {},
   "outputs": [
    {
     "name": "stdout",
     "output_type": "stream",
     "text": [
      "{'max_depth': 2, 'min_samples_split': 3, 'learning_rate': 0.09195708373638423, 'n_estimators': 90}\n",
      "SCORE: 0.042                                                                   \n",
      "{'max_depth': 2, 'min_samples_split': 3, 'learning_rate': 0.08340597452291706, 'n_estimators': 90}\n",
      "SCORE: 0.042                                                                   \n",
      "{'max_depth': 4, 'min_samples_split': 2, 'learning_rate': 0.19850797829487316, 'n_estimators': 90}\n",
      "SCORE: 0.184                                                                   \n",
      "{'max_depth': 4, 'min_samples_split': 2, 'learning_rate': 0.197825319031023, 'n_estimators': 80}\n",
      "SCORE: 0.182                                                                   \n",
      "{'max_depth': 5, 'min_samples_split': 2, 'learning_rate': 0.19240472492060262, 'n_estimators': 100}\n",
      "SCORE: 0.224                                                                   \n",
      "{'max_depth': 5, 'min_samples_split': 2, 'learning_rate': 0.15001762205312102, 'n_estimators': 100}\n",
      "SCORE: 0.203                                                                   \n",
      "{'max_depth': 3, 'min_samples_split': 2, 'learning_rate': 0.14866707231836734, 'n_estimators': 100}\n",
      "SCORE: 0.116                                                                   \n",
      "{'max_depth': 5, 'min_samples_split': 2, 'learning_rate': 0.16968269202878133, 'n_estimators': 100}\n",
      "SCORE: 0.223                                                                   \n",
      "{'max_depth': 5, 'min_samples_split': 3, 'learning_rate': 0.05150186964760421, 'n_estimators': 80}\n",
      "SCORE: 0.117                                                                   \n",
      "{'max_depth': 5, 'min_samples_split': 2, 'learning_rate': 0.11585142073797253, 'n_estimators': 100}\n",
      "SCORE: 0.198                                                                   \n",
      "{'max_depth': 3, 'min_samples_split': 2, 'learning_rate': 0.1763922923923873, 'n_estimators': 100}\n",
      "SCORE: 0.14                                                                    \n",
      "{'max_depth': 5, 'min_samples_split': 2, 'learning_rate': 0.05466976201632283, 'n_estimators': 100}\n",
      "SCORE: 0.14                                                                    \n",
      "{'max_depth': 4, 'min_samples_split': 3, 'learning_rate': 0.12757069797703074, 'n_estimators': 80}\n",
      "SCORE: 0.142                                                                   \n",
      "{'max_depth': 2, 'min_samples_split': 2, 'learning_rate': 0.17794428321377556, 'n_estimators': 100}\n",
      "SCORE: 0.088                                                                   \n",
      "{'max_depth': 3, 'min_samples_split': 3, 'learning_rate': 0.19926884026853975, 'n_estimators': 100}\n",
      "SCORE: 0.15                                                                    \n",
      "{'max_depth': 5, 'min_samples_split': 2, 'learning_rate': 0.11204106502968066, 'n_estimators': 90}\n",
      "SCORE: 0.188                                                                   \n",
      "{'max_depth': 5, 'min_samples_split': 2, 'learning_rate': 0.151087376435159, 'n_estimators': 80}\n",
      "SCORE: 0.201                                                                   \n",
      "{'max_depth': 5, 'min_samples_split': 2, 'learning_rate': 0.1760927509064642, 'n_estimators': 100}\n",
      "SCORE: 0.227                                                                   \n",
      "{'max_depth': 5, 'min_samples_split': 2, 'learning_rate': 0.18698350881233392, 'n_estimators': 100}\n",
      "SCORE: 0.221                                                                   \n",
      "{'max_depth': 5, 'min_samples_split': 2, 'learning_rate': 0.16192610143207406, 'n_estimators': 100}\n",
      "SCORE: 0.221                                                                   \n",
      "{'max_depth': 5, 'min_samples_split': 2, 'learning_rate': 0.18818991384587708, 'n_estimators': 100}\n",
      "SCORE: 0.228                                                                   \n",
      "{'max_depth': 5, 'min_samples_split': 2, 'learning_rate': 0.13810893446658584, 'n_estimators': 100}\n",
      "SCORE: 0.207                                                                   \n",
      "{'max_depth': 5, 'min_samples_split': 2, 'learning_rate': 0.16304644598086818, 'n_estimators': 100}\n",
      "SCORE: 0.221                                                                   \n",
      "{'max_depth': 2, 'min_samples_split': 2, 'learning_rate': 0.18201263745809973, 'n_estimators': 100}\n",
      "SCORE: 0.077                                                                   \n",
      "{'max_depth': 4, 'min_samples_split': 2, 'learning_rate': 0.1361432845380499, 'n_estimators': 80}\n",
      "SCORE: 0.141                                                                   \n",
      "{'max_depth': 3, 'min_samples_split': 3, 'learning_rate': 0.16674826216351396, 'n_estimators': 100}\n",
      "SCORE: 0.125                                                                   \n",
      "{'max_depth': 5, 'min_samples_split': 2, 'learning_rate': 0.18568922124104792, 'n_estimators': 90}\n",
      "SCORE: 0.219                                                                   \n",
      "{'max_depth': 5, 'min_samples_split': 2, 'learning_rate': 0.09546616462234049, 'n_estimators': 100}\n",
      "SCORE: 0.191                                                                   \n",
      "{'max_depth': 2, 'min_samples_split': 3, 'learning_rate': 0.15610183593574886, 'n_estimators': 90}\n",
      "SCORE: 0.071                                                                   \n",
      "{'max_depth': 5, 'min_samples_split': 2, 'learning_rate': 0.07652400823222592, 'n_estimators': 100}\n",
      "SCORE: 0.157                                                                   \n",
      "{'max_depth': 2, 'min_samples_split': 3, 'learning_rate': 0.17340430574247184, 'n_estimators': 90}\n",
      "SCORE: 0.071                                                                   \n",
      "{'max_depth': 4, 'min_samples_split': 2, 'learning_rate': 0.1407046821367169, 'n_estimators': 80}\n",
      "SCORE: 0.148                                                                   \n",
      "{'max_depth': 3, 'min_samples_split': 3, 'learning_rate': 0.1071114242540104, 'n_estimators': 90}\n",
      "SCORE: 0.09                                                                    \n",
      "{'max_depth': 4, 'min_samples_split': 2, 'learning_rate': 0.1916118949824122, 'n_estimators': 100}\n",
      "SCORE: 0.193                                                                   \n",
      "{'max_depth': 5, 'min_samples_split': 2, 'learning_rate': 0.19962839911665375, 'n_estimators': 100}\n",
      "SCORE: 0.24                                                                    \n",
      "{'max_depth': 2, 'min_samples_split': 2, 'learning_rate': 0.1997651934395593, 'n_estimators': 100}\n",
      "SCORE: 0.091                                                                   \n",
      "{'max_depth': 5, 'min_samples_split': 2, 'learning_rate': 0.0755514063235265, 'n_estimators': 80}\n",
      "SCORE: 0.149                                                                   \n",
      "{'max_depth': 5, 'min_samples_split': 2, 'learning_rate': 0.19225535450420547, 'n_estimators': 90}\n",
      "SCORE: 0.22                                                                    \n",
      "{'max_depth': 4, 'min_samples_split': 3, 'learning_rate': 0.12711220265373618, 'n_estimators': 100}\n",
      "SCORE: 0.159                                                                   \n",
      "{'max_depth': 3, 'min_samples_split': 2, 'learning_rate': 0.05925938190428057, 'n_estimators': 100}\n",
      "SCORE: 0.052                                                                   \n",
      "{'max_depth': 5, 'min_samples_split': 2, 'learning_rate': 0.15638168960199317, 'n_estimators': 100}\n",
      "SCORE: 0.218                                                                   \n",
      "{'max_depth': 5, 'min_samples_split': 2, 'learning_rate': 0.09007116334855536, 'n_estimators': 80}\n",
      "SCORE: 0.166                                                                   \n",
      "{'max_depth': 2, 'min_samples_split': 3, 'learning_rate': 0.19924675293136976, 'n_estimators': 100}\n",
      "SCORE: 0.089                                                                   \n",
      "{'max_depth': 5, 'min_samples_split': 2, 'learning_rate': 0.1458647635464765, 'n_estimators': 100}\n",
      "SCORE: 0.21                                                                    \n",
      "{'max_depth': 3, 'min_samples_split': 2, 'learning_rate': 0.12057112839227266, 'n_estimators': 90}\n",
      "SCORE: 0.101                                                                   \n",
      "{'max_depth': 4, 'min_samples_split': 2, 'learning_rate': 0.18303489196170067, 'n_estimators': 100}\n",
      "SCORE: 0.188                                                                   \n",
      "{'max_depth': 5, 'min_samples_split': 3, 'learning_rate': 0.10444146338357811, 'n_estimators': 80}\n",
      "SCORE: 0.175                                                                   \n",
      "{'max_depth': 5, 'min_samples_split': 2, 'learning_rate': 0.16942598596524513, 'n_estimators': 100}\n",
      "SCORE: 0.219                                                                   \n",
      "{'max_depth': 5, 'min_samples_split': 2, 'learning_rate': 0.132930043138678, 'n_estimators': 100}\n",
      "SCORE: 0.208                                                                   \n",
      "{'max_depth': 3, 'min_samples_split': 2, 'learning_rate': 0.19396918395389093, 'n_estimators': 100}\n",
      "SCORE: 0.138                                                                   \n",
      "100%|████████████████████████| 50/50 [07:13<00:00,  8.67s/it, best loss: -0.24]\n",
      "The best params:  {'x_learning_rate': 0.19962839911665375, 'x_max_depth': 3, 'x_min_samples_split': 0, 'x_n_estimators': 2}\n"
     ]
    }
   ],
   "source": [
    "def objective(space):\n",
    "    _params = {\n",
    "        'max_depth': int(space['max_depth']),\n",
    "        'min_samples_split': int(space['min_samples_split']),\n",
    "        'learning_rate': space['learning_rate'],\n",
    "        'n_estimators': space['n_estimators']\n",
    "        }\n",
    "    \n",
    "    model = GradientBoostingClassifier(**_params, random_state=2020)    \n",
    "    score = my_cv_h (model, X_cv, y_cv)\n",
    "    print(_params)\n",
    "    print(\"SCORE: {0}\".format(score))\n",
    "    \n",
    "    return{'loss':-score, 'status': STATUS_OK }\n",
    "    \n",
    "space ={\n",
    "    'max_depth': hp.choice ('x_max_depth', np.arange(2, 6, dtype=int)),\n",
    "    'min_samples_split': hp.choice ('x_min_samples_split',np.arange(2, 4, dtype=int)),\n",
    "    'learning_rate': hp.uniform ('x_learning_rate', 0.05, 0.2),\n",
    "    'n_estimators': hp.choice ('x_n_estimators', [80, 90, 100]),\n",
    "    }\n",
    "\n",
    "trials = Trials()\n",
    "best_params = fmin(fn=objective,\n",
    "            space=space,\n",
    "            algo=partial(tpe.suggest, n_startup_jobs=1),\n",
    "            max_evals=50,\n",
    "            trials=trials)\n",
    "\n",
    "print(\"The best params: \", best_params)"
   ]
  },
  {
   "cell_type": "code",
   "execution_count": 39,
   "metadata": {},
   "outputs": [
    {
     "data": {
      "text/plain": [
       "{'state': 2,\n",
       " 'tid': 34,\n",
       " 'spec': None,\n",
       " 'result': {'loss': -0.24, 'status': 'ok'},\n",
       " 'misc': {'tid': 34,\n",
       "  'cmd': ('domain_attachment', 'FMinIter_Domain'),\n",
       "  'workdir': None,\n",
       "  'idxs': {'x_learning_rate': [34],\n",
       "   'x_max_depth': [34],\n",
       "   'x_min_samples_split': [34],\n",
       "   'x_n_estimators': [34]},\n",
       "  'vals': {'x_learning_rate': [0.19962839911665375],\n",
       "   'x_max_depth': [3],\n",
       "   'x_min_samples_split': [0],\n",
       "   'x_n_estimators': [2]}},\n",
       " 'exp_key': None,\n",
       " 'owner': None,\n",
       " 'version': 0,\n",
       " 'book_time': datetime.datetime(2020, 3, 11, 20, 2, 24, 559000),\n",
       " 'refresh_time': datetime.datetime(2020, 3, 11, 20, 2, 42, 882000)}"
      ]
     },
     "execution_count": 39,
     "metadata": {},
     "output_type": "execute_result"
    }
   ],
   "source": [
    "trials.best_trial"
   ]
  }
 ],
 "metadata": {
  "kernelspec": {
   "display_name": "Python 3",
   "language": "python",
   "name": "python3"
  },
  "language_info": {
   "codemirror_mode": {
    "name": "ipython",
    "version": 3
   },
   "file_extension": ".py",
   "mimetype": "text/x-python",
   "name": "python",
   "nbconvert_exporter": "python",
   "pygments_lexer": "ipython3",
   "version": "3.6.9"
  }
 },
 "nbformat": 4,
 "nbformat_minor": 2
}
