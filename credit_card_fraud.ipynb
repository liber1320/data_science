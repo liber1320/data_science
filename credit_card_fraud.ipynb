{
 "cells": [
  {
   "cell_type": "markdown",
   "metadata": {},
   "source": [
    "# Credit card fraud"
   ]
  },
  {
   "cell_type": "markdown",
   "metadata": {},
   "source": [
    "The aim of this project was to build model predicting if the credit card transaction is a fraud."
   ]
  },
  {
   "cell_type": "code",
   "execution_count": 23,
   "metadata": {},
   "outputs": [],
   "source": [
    "import pandas as pd\n",
    "import numpy as np\n",
    "np.random.seed(2019)\n",
    "\n",
    "import matplotlib.pyplot as plt\n",
    "%matplotlib inline\n",
    "\n",
    "from sklearn.model_selection import  learning_curve, train_test_split\n",
    "from sklearn.model_selection import cross_val_score, cross_val_predict, learning_curve\n",
    "from sklearn.model_selection import KFold, StratifiedKFold, GridSearchCV, StratifiedShuffleSplit\n",
    "from sklearn.base import clone\n",
    "\n",
    "from sklearn.metrics import accuracy_score, precision_score, recall_score, f1_score, precision_recall_curve, confusion_matrix\n",
    "from sklearn.metrics import roc_auc_score,roc_curve\n",
    "\n",
    "from sklearn.preprocessing import RobustScaler\n",
    "\n",
    "from sklearn.tree import DecisionTreeClassifier\n",
    "from sklearn.dummy import DummyClassifier\n",
    "from sklearn.ensemble import RandomForestClassifier, GradientBoostingClassifier\n",
    "from sklearn.linear_model import LogisticRegression\n",
    "import xgboost as xgb\n",
    "from imblearn.over_sampling import SMOTE\n",
    "\n",
    "import zipfile\n",
    "import os\n",
    "os.getcwd()\n",
    "\n",
    "import warnings\n",
    "warnings.filterwarnings('ignore')"
   ]
  },
  {
   "cell_type": "markdown",
   "metadata": {},
   "source": [
    "### Data loading "
   ]
  },
  {
   "cell_type": "code",
   "execution_count": 3,
   "metadata": {
    "collapsed": true
   },
   "outputs": [],
   "source": [
    "FRAUD_PATH = os.path.join(\"FRAUD\", \"DATA\")\n",
    "FILE_PATH = os.path.join(os.getcwd(), \"creditcardfraud.zip\")\n",
    "\n",
    "def extract_data(fraud_path=FRAUD_PATH, file_path=FILE_PATH):\n",
    "    if not os.path.isdir(fraud_path):\n",
    "        os.makedirs(fraud_path)\n",
    "    zip_ref = zipfile.ZipFile(file_path, 'r')\n",
    "    zip_ref.extractall(fraud_path)"
   ]
  },
  {
   "cell_type": "code",
   "execution_count": 4,
   "metadata": {
    "collapsed": true
   },
   "outputs": [],
   "source": [
    "extract_data()"
   ]
  },
  {
   "cell_type": "code",
   "execution_count": 5,
   "metadata": {
    "collapsed": true
   },
   "outputs": [],
   "source": [
    "FRAUD_PATH = os.path.join(\"FRAUD\", \"DATA\")\n",
    "path=os.path.join(FRAUD_PATH, 'creditcard.csv')\n",
    "\n",
    "df=pd.read_csv(path)"
   ]
  },
  {
   "cell_type": "markdown",
   "metadata": {},
   "source": [
    "### EDA"
   ]
  },
  {
   "cell_type": "code",
   "execution_count": 6,
   "metadata": {},
   "outputs": [
    {
     "name": "stdout",
     "output_type": "stream",
     "text": [
      "<class 'pandas.core.frame.DataFrame'>\n",
      "RangeIndex: 284807 entries, 0 to 284806\n",
      "Data columns (total 31 columns):\n",
      "Time      284807 non-null float64\n",
      "V1        284807 non-null float64\n",
      "V2        284807 non-null float64\n",
      "V3        284807 non-null float64\n",
      "V4        284807 non-null float64\n",
      "V5        284807 non-null float64\n",
      "V6        284807 non-null float64\n",
      "V7        284807 non-null float64\n",
      "V8        284807 non-null float64\n",
      "V9        284807 non-null float64\n",
      "V10       284807 non-null float64\n",
      "V11       284807 non-null float64\n",
      "V12       284807 non-null float64\n",
      "V13       284807 non-null float64\n",
      "V14       284807 non-null float64\n",
      "V15       284807 non-null float64\n",
      "V16       284807 non-null float64\n",
      "V17       284807 non-null float64\n",
      "V18       284807 non-null float64\n",
      "V19       284807 non-null float64\n",
      "V20       284807 non-null float64\n",
      "V21       284807 non-null float64\n",
      "V22       284807 non-null float64\n",
      "V23       284807 non-null float64\n",
      "V24       284807 non-null float64\n",
      "V25       284807 non-null float64\n",
      "V26       284807 non-null float64\n",
      "V27       284807 non-null float64\n",
      "V28       284807 non-null float64\n",
      "Amount    284807 non-null float64\n",
      "Class     284807 non-null int64\n",
      "dtypes: float64(30), int64(1)\n",
      "memory usage: 67.4 MB\n"
     ]
    }
   ],
   "source": [
    "df.info()"
   ]
  },
  {
   "cell_type": "code",
   "execution_count": 7,
   "metadata": {},
   "outputs": [
    {
     "data": {
      "text/plain": [
       "False"
      ]
     },
     "execution_count": 7,
     "metadata": {},
     "output_type": "execute_result"
    }
   ],
   "source": [
    "df.isnull().any().any()"
   ]
  },
  {
   "cell_type": "code",
   "execution_count": 8,
   "metadata": {},
   "outputs": [
    {
     "data": {
      "text/html": [
       "<div>\n",
       "<style>\n",
       "    .dataframe thead tr:only-child th {\n",
       "        text-align: right;\n",
       "    }\n",
       "\n",
       "    .dataframe thead th {\n",
       "        text-align: left;\n",
       "    }\n",
       "\n",
       "    .dataframe tbody tr th {\n",
       "        vertical-align: top;\n",
       "    }\n",
       "</style>\n",
       "<table border=\"1\" class=\"dataframe\">\n",
       "  <thead>\n",
       "    <tr style=\"text-align: right;\">\n",
       "      <th></th>\n",
       "      <th>Time</th>\n",
       "      <th>V1</th>\n",
       "      <th>V2</th>\n",
       "      <th>V3</th>\n",
       "      <th>V4</th>\n",
       "      <th>V5</th>\n",
       "      <th>V6</th>\n",
       "      <th>V7</th>\n",
       "      <th>V8</th>\n",
       "      <th>V9</th>\n",
       "      <th>...</th>\n",
       "      <th>V21</th>\n",
       "      <th>V22</th>\n",
       "      <th>V23</th>\n",
       "      <th>V24</th>\n",
       "      <th>V25</th>\n",
       "      <th>V26</th>\n",
       "      <th>V27</th>\n",
       "      <th>V28</th>\n",
       "      <th>Amount</th>\n",
       "      <th>Class</th>\n",
       "    </tr>\n",
       "  </thead>\n",
       "  <tbody>\n",
       "    <tr>\n",
       "      <th>246949</th>\n",
       "      <td>153399.0</td>\n",
       "      <td>2.016159</td>\n",
       "      <td>-1.015916</td>\n",
       "      <td>-1.809951</td>\n",
       "      <td>-0.407078</td>\n",
       "      <td>1.494080</td>\n",
       "      <td>4.040835</td>\n",
       "      <td>-1.444851</td>\n",
       "      <td>1.004104</td>\n",
       "      <td>-0.264494</td>\n",
       "      <td>...</td>\n",
       "      <td>-0.002875</td>\n",
       "      <td>0.527688</td>\n",
       "      <td>0.111028</td>\n",
       "      <td>0.679130</td>\n",
       "      <td>0.052831</td>\n",
       "      <td>-0.356448</td>\n",
       "      <td>0.093513</td>\n",
       "      <td>-0.034238</td>\n",
       "      <td>30.00</td>\n",
       "      <td>0</td>\n",
       "    </tr>\n",
       "    <tr>\n",
       "      <th>125600</th>\n",
       "      <td>77729.0</td>\n",
       "      <td>1.306700</td>\n",
       "      <td>0.213456</td>\n",
       "      <td>-0.109044</td>\n",
       "      <td>-0.034889</td>\n",
       "      <td>-0.027178</td>\n",
       "      <td>-1.012244</td>\n",
       "      <td>0.394255</td>\n",
       "      <td>-0.345366</td>\n",
       "      <td>-0.181242</td>\n",
       "      <td>...</td>\n",
       "      <td>-0.456311</td>\n",
       "      <td>-1.352091</td>\n",
       "      <td>0.121974</td>\n",
       "      <td>-0.079709</td>\n",
       "      <td>0.193579</td>\n",
       "      <td>0.648696</td>\n",
       "      <td>-0.098183</td>\n",
       "      <td>0.003329</td>\n",
       "      <td>22.50</td>\n",
       "      <td>0</td>\n",
       "    </tr>\n",
       "    <tr>\n",
       "      <th>248082</th>\n",
       "      <td>153789.0</td>\n",
       "      <td>2.189292</td>\n",
       "      <td>-0.663296</td>\n",
       "      <td>-1.418668</td>\n",
       "      <td>-1.096806</td>\n",
       "      <td>-0.233084</td>\n",
       "      <td>-0.692229</td>\n",
       "      <td>-0.389778</td>\n",
       "      <td>-0.254238</td>\n",
       "      <td>-0.965586</td>\n",
       "      <td>...</td>\n",
       "      <td>0.493695</td>\n",
       "      <td>1.421238</td>\n",
       "      <td>0.000954</td>\n",
       "      <td>0.853217</td>\n",
       "      <td>0.223169</td>\n",
       "      <td>0.009137</td>\n",
       "      <td>-0.041107</td>\n",
       "      <td>-0.065917</td>\n",
       "      <td>15.00</td>\n",
       "      <td>0</td>\n",
       "    </tr>\n",
       "    <tr>\n",
       "      <th>253398</th>\n",
       "      <td>156232.0</td>\n",
       "      <td>-0.706309</td>\n",
       "      <td>0.779612</td>\n",
       "      <td>0.920347</td>\n",
       "      <td>0.997024</td>\n",
       "      <td>1.364367</td>\n",
       "      <td>-0.824400</td>\n",
       "      <td>1.570090</td>\n",
       "      <td>-0.494929</td>\n",
       "      <td>-0.919825</td>\n",
       "      <td>...</td>\n",
       "      <td>0.058125</td>\n",
       "      <td>0.332196</td>\n",
       "      <td>-0.503240</td>\n",
       "      <td>0.008304</td>\n",
       "      <td>1.115720</td>\n",
       "      <td>-0.215106</td>\n",
       "      <td>-0.143139</td>\n",
       "      <td>-0.163528</td>\n",
       "      <td>41.39</td>\n",
       "      <td>0</td>\n",
       "    </tr>\n",
       "    <tr>\n",
       "      <th>222876</th>\n",
       "      <td>143152.0</td>\n",
       "      <td>0.232695</td>\n",
       "      <td>0.847044</td>\n",
       "      <td>-0.308458</td>\n",
       "      <td>-0.500006</td>\n",
       "      <td>0.892295</td>\n",
       "      <td>-0.654689</td>\n",
       "      <td>0.937207</td>\n",
       "      <td>-0.307682</td>\n",
       "      <td>-0.023858</td>\n",
       "      <td>...</td>\n",
       "      <td>0.351125</td>\n",
       "      <td>1.132289</td>\n",
       "      <td>-0.291230</td>\n",
       "      <td>-0.722070</td>\n",
       "      <td>-0.301914</td>\n",
       "      <td>-0.121702</td>\n",
       "      <td>0.002894</td>\n",
       "      <td>0.092798</td>\n",
       "      <td>1.00</td>\n",
       "      <td>0</td>\n",
       "    </tr>\n",
       "  </tbody>\n",
       "</table>\n",
       "<p>5 rows × 31 columns</p>\n",
       "</div>"
      ],
      "text/plain": [
       "            Time        V1        V2        V3        V4        V5        V6  \\\n",
       "246949  153399.0  2.016159 -1.015916 -1.809951 -0.407078  1.494080  4.040835   \n",
       "125600   77729.0  1.306700  0.213456 -0.109044 -0.034889 -0.027178 -1.012244   \n",
       "248082  153789.0  2.189292 -0.663296 -1.418668 -1.096806 -0.233084 -0.692229   \n",
       "253398  156232.0 -0.706309  0.779612  0.920347  0.997024  1.364367 -0.824400   \n",
       "222876  143152.0  0.232695  0.847044 -0.308458 -0.500006  0.892295 -0.654689   \n",
       "\n",
       "              V7        V8        V9  ...         V21       V22       V23  \\\n",
       "246949 -1.444851  1.004104 -0.264494  ...   -0.002875  0.527688  0.111028   \n",
       "125600  0.394255 -0.345366 -0.181242  ...   -0.456311 -1.352091  0.121974   \n",
       "248082 -0.389778 -0.254238 -0.965586  ...    0.493695  1.421238  0.000954   \n",
       "253398  1.570090 -0.494929 -0.919825  ...    0.058125  0.332196 -0.503240   \n",
       "222876  0.937207 -0.307682 -0.023858  ...    0.351125  1.132289 -0.291230   \n",
       "\n",
       "             V24       V25       V26       V27       V28  Amount  Class  \n",
       "246949  0.679130  0.052831 -0.356448  0.093513 -0.034238   30.00      0  \n",
       "125600 -0.079709  0.193579  0.648696 -0.098183  0.003329   22.50      0  \n",
       "248082  0.853217  0.223169  0.009137 -0.041107 -0.065917   15.00      0  \n",
       "253398  0.008304  1.115720 -0.215106 -0.143139 -0.163528   41.39      0  \n",
       "222876 -0.722070 -0.301914 -0.121702  0.002894  0.092798    1.00      0  \n",
       "\n",
       "[5 rows x 31 columns]"
      ]
     },
     "execution_count": 8,
     "metadata": {},
     "output_type": "execute_result"
    }
   ],
   "source": [
    "df.sample(5)"
   ]
  },
  {
   "cell_type": "code",
   "execution_count": 9,
   "metadata": {},
   "outputs": [
    {
     "data": {
      "text/html": [
       "<div>\n",
       "<style>\n",
       "    .dataframe thead tr:only-child th {\n",
       "        text-align: right;\n",
       "    }\n",
       "\n",
       "    .dataframe thead th {\n",
       "        text-align: left;\n",
       "    }\n",
       "\n",
       "    .dataframe tbody tr th {\n",
       "        vertical-align: top;\n",
       "    }\n",
       "</style>\n",
       "<table border=\"1\" class=\"dataframe\">\n",
       "  <thead>\n",
       "    <tr style=\"text-align: right;\">\n",
       "      <th></th>\n",
       "      <th>Time</th>\n",
       "      <th>V1</th>\n",
       "      <th>V2</th>\n",
       "      <th>V3</th>\n",
       "      <th>V4</th>\n",
       "      <th>V5</th>\n",
       "      <th>V6</th>\n",
       "      <th>V7</th>\n",
       "      <th>V8</th>\n",
       "      <th>V9</th>\n",
       "      <th>...</th>\n",
       "      <th>V21</th>\n",
       "      <th>V22</th>\n",
       "      <th>V23</th>\n",
       "      <th>V24</th>\n",
       "      <th>V25</th>\n",
       "      <th>V26</th>\n",
       "      <th>V27</th>\n",
       "      <th>V28</th>\n",
       "      <th>Amount</th>\n",
       "      <th>Class</th>\n",
       "    </tr>\n",
       "  </thead>\n",
       "  <tbody>\n",
       "    <tr>\n",
       "      <th>0</th>\n",
       "      <td>0.0</td>\n",
       "      <td>-1.359807</td>\n",
       "      <td>-0.072781</td>\n",
       "      <td>2.536347</td>\n",
       "      <td>1.378155</td>\n",
       "      <td>-0.338321</td>\n",
       "      <td>0.462388</td>\n",
       "      <td>0.239599</td>\n",
       "      <td>0.098698</td>\n",
       "      <td>0.363787</td>\n",
       "      <td>...</td>\n",
       "      <td>-0.018307</td>\n",
       "      <td>0.277838</td>\n",
       "      <td>-0.110474</td>\n",
       "      <td>0.066928</td>\n",
       "      <td>0.128539</td>\n",
       "      <td>-0.189115</td>\n",
       "      <td>0.133558</td>\n",
       "      <td>-0.021053</td>\n",
       "      <td>149.62</td>\n",
       "      <td>0</td>\n",
       "    </tr>\n",
       "    <tr>\n",
       "      <th>1</th>\n",
       "      <td>0.0</td>\n",
       "      <td>1.191857</td>\n",
       "      <td>0.266151</td>\n",
       "      <td>0.166480</td>\n",
       "      <td>0.448154</td>\n",
       "      <td>0.060018</td>\n",
       "      <td>-0.082361</td>\n",
       "      <td>-0.078803</td>\n",
       "      <td>0.085102</td>\n",
       "      <td>-0.255425</td>\n",
       "      <td>...</td>\n",
       "      <td>-0.225775</td>\n",
       "      <td>-0.638672</td>\n",
       "      <td>0.101288</td>\n",
       "      <td>-0.339846</td>\n",
       "      <td>0.167170</td>\n",
       "      <td>0.125895</td>\n",
       "      <td>-0.008983</td>\n",
       "      <td>0.014724</td>\n",
       "      <td>2.69</td>\n",
       "      <td>0</td>\n",
       "    </tr>\n",
       "    <tr>\n",
       "      <th>2</th>\n",
       "      <td>1.0</td>\n",
       "      <td>-1.358354</td>\n",
       "      <td>-1.340163</td>\n",
       "      <td>1.773209</td>\n",
       "      <td>0.379780</td>\n",
       "      <td>-0.503198</td>\n",
       "      <td>1.800499</td>\n",
       "      <td>0.791461</td>\n",
       "      <td>0.247676</td>\n",
       "      <td>-1.514654</td>\n",
       "      <td>...</td>\n",
       "      <td>0.247998</td>\n",
       "      <td>0.771679</td>\n",
       "      <td>0.909412</td>\n",
       "      <td>-0.689281</td>\n",
       "      <td>-0.327642</td>\n",
       "      <td>-0.139097</td>\n",
       "      <td>-0.055353</td>\n",
       "      <td>-0.059752</td>\n",
       "      <td>378.66</td>\n",
       "      <td>0</td>\n",
       "    </tr>\n",
       "    <tr>\n",
       "      <th>3</th>\n",
       "      <td>1.0</td>\n",
       "      <td>-0.966272</td>\n",
       "      <td>-0.185226</td>\n",
       "      <td>1.792993</td>\n",
       "      <td>-0.863291</td>\n",
       "      <td>-0.010309</td>\n",
       "      <td>1.247203</td>\n",
       "      <td>0.237609</td>\n",
       "      <td>0.377436</td>\n",
       "      <td>-1.387024</td>\n",
       "      <td>...</td>\n",
       "      <td>-0.108300</td>\n",
       "      <td>0.005274</td>\n",
       "      <td>-0.190321</td>\n",
       "      <td>-1.175575</td>\n",
       "      <td>0.647376</td>\n",
       "      <td>-0.221929</td>\n",
       "      <td>0.062723</td>\n",
       "      <td>0.061458</td>\n",
       "      <td>123.50</td>\n",
       "      <td>0</td>\n",
       "    </tr>\n",
       "    <tr>\n",
       "      <th>4</th>\n",
       "      <td>2.0</td>\n",
       "      <td>-1.158233</td>\n",
       "      <td>0.877737</td>\n",
       "      <td>1.548718</td>\n",
       "      <td>0.403034</td>\n",
       "      <td>-0.407193</td>\n",
       "      <td>0.095921</td>\n",
       "      <td>0.592941</td>\n",
       "      <td>-0.270533</td>\n",
       "      <td>0.817739</td>\n",
       "      <td>...</td>\n",
       "      <td>-0.009431</td>\n",
       "      <td>0.798278</td>\n",
       "      <td>-0.137458</td>\n",
       "      <td>0.141267</td>\n",
       "      <td>-0.206010</td>\n",
       "      <td>0.502292</td>\n",
       "      <td>0.219422</td>\n",
       "      <td>0.215153</td>\n",
       "      <td>69.99</td>\n",
       "      <td>0</td>\n",
       "    </tr>\n",
       "  </tbody>\n",
       "</table>\n",
       "<p>5 rows × 31 columns</p>\n",
       "</div>"
      ],
      "text/plain": [
       "   Time        V1        V2        V3        V4        V5        V6        V7  \\\n",
       "0   0.0 -1.359807 -0.072781  2.536347  1.378155 -0.338321  0.462388  0.239599   \n",
       "1   0.0  1.191857  0.266151  0.166480  0.448154  0.060018 -0.082361 -0.078803   \n",
       "2   1.0 -1.358354 -1.340163  1.773209  0.379780 -0.503198  1.800499  0.791461   \n",
       "3   1.0 -0.966272 -0.185226  1.792993 -0.863291 -0.010309  1.247203  0.237609   \n",
       "4   2.0 -1.158233  0.877737  1.548718  0.403034 -0.407193  0.095921  0.592941   \n",
       "\n",
       "         V8        V9  ...         V21       V22       V23       V24  \\\n",
       "0  0.098698  0.363787  ...   -0.018307  0.277838 -0.110474  0.066928   \n",
       "1  0.085102 -0.255425  ...   -0.225775 -0.638672  0.101288 -0.339846   \n",
       "2  0.247676 -1.514654  ...    0.247998  0.771679  0.909412 -0.689281   \n",
       "3  0.377436 -1.387024  ...   -0.108300  0.005274 -0.190321 -1.175575   \n",
       "4 -0.270533  0.817739  ...   -0.009431  0.798278 -0.137458  0.141267   \n",
       "\n",
       "        V25       V26       V27       V28  Amount  Class  \n",
       "0  0.128539 -0.189115  0.133558 -0.021053  149.62      0  \n",
       "1  0.167170  0.125895 -0.008983  0.014724    2.69      0  \n",
       "2 -0.327642 -0.139097 -0.055353 -0.059752  378.66      0  \n",
       "3  0.647376 -0.221929  0.062723  0.061458  123.50      0  \n",
       "4 -0.206010  0.502292  0.219422  0.215153   69.99      0  \n",
       "\n",
       "[5 rows x 31 columns]"
      ]
     },
     "execution_count": 9,
     "metadata": {},
     "output_type": "execute_result"
    }
   ],
   "source": [
    "df.head()"
   ]
  },
  {
   "cell_type": "code",
   "execution_count": 10,
   "metadata": {},
   "outputs": [
    {
     "data": {
      "text/html": [
       "<div>\n",
       "<style>\n",
       "    .dataframe thead tr:only-child th {\n",
       "        text-align: right;\n",
       "    }\n",
       "\n",
       "    .dataframe thead th {\n",
       "        text-align: left;\n",
       "    }\n",
       "\n",
       "    .dataframe tbody tr th {\n",
       "        vertical-align: top;\n",
       "    }\n",
       "</style>\n",
       "<table border=\"1\" class=\"dataframe\">\n",
       "  <thead>\n",
       "    <tr style=\"text-align: right;\">\n",
       "      <th></th>\n",
       "      <th>Time</th>\n",
       "      <th>V1</th>\n",
       "      <th>V2</th>\n",
       "      <th>V3</th>\n",
       "      <th>V4</th>\n",
       "      <th>V5</th>\n",
       "      <th>V6</th>\n",
       "      <th>V7</th>\n",
       "      <th>V8</th>\n",
       "      <th>V9</th>\n",
       "      <th>...</th>\n",
       "      <th>V21</th>\n",
       "      <th>V22</th>\n",
       "      <th>V23</th>\n",
       "      <th>V24</th>\n",
       "      <th>V25</th>\n",
       "      <th>V26</th>\n",
       "      <th>V27</th>\n",
       "      <th>V28</th>\n",
       "      <th>Amount</th>\n",
       "      <th>Class</th>\n",
       "    </tr>\n",
       "  </thead>\n",
       "  <tbody>\n",
       "    <tr>\n",
       "      <th>284802</th>\n",
       "      <td>172786.0</td>\n",
       "      <td>-11.881118</td>\n",
       "      <td>10.071785</td>\n",
       "      <td>-9.834783</td>\n",
       "      <td>-2.066656</td>\n",
       "      <td>-5.364473</td>\n",
       "      <td>-2.606837</td>\n",
       "      <td>-4.918215</td>\n",
       "      <td>7.305334</td>\n",
       "      <td>1.914428</td>\n",
       "      <td>...</td>\n",
       "      <td>0.213454</td>\n",
       "      <td>0.111864</td>\n",
       "      <td>1.014480</td>\n",
       "      <td>-0.509348</td>\n",
       "      <td>1.436807</td>\n",
       "      <td>0.250034</td>\n",
       "      <td>0.943651</td>\n",
       "      <td>0.823731</td>\n",
       "      <td>0.77</td>\n",
       "      <td>0</td>\n",
       "    </tr>\n",
       "    <tr>\n",
       "      <th>284803</th>\n",
       "      <td>172787.0</td>\n",
       "      <td>-0.732789</td>\n",
       "      <td>-0.055080</td>\n",
       "      <td>2.035030</td>\n",
       "      <td>-0.738589</td>\n",
       "      <td>0.868229</td>\n",
       "      <td>1.058415</td>\n",
       "      <td>0.024330</td>\n",
       "      <td>0.294869</td>\n",
       "      <td>0.584800</td>\n",
       "      <td>...</td>\n",
       "      <td>0.214205</td>\n",
       "      <td>0.924384</td>\n",
       "      <td>0.012463</td>\n",
       "      <td>-1.016226</td>\n",
       "      <td>-0.606624</td>\n",
       "      <td>-0.395255</td>\n",
       "      <td>0.068472</td>\n",
       "      <td>-0.053527</td>\n",
       "      <td>24.79</td>\n",
       "      <td>0</td>\n",
       "    </tr>\n",
       "    <tr>\n",
       "      <th>284804</th>\n",
       "      <td>172788.0</td>\n",
       "      <td>1.919565</td>\n",
       "      <td>-0.301254</td>\n",
       "      <td>-3.249640</td>\n",
       "      <td>-0.557828</td>\n",
       "      <td>2.630515</td>\n",
       "      <td>3.031260</td>\n",
       "      <td>-0.296827</td>\n",
       "      <td>0.708417</td>\n",
       "      <td>0.432454</td>\n",
       "      <td>...</td>\n",
       "      <td>0.232045</td>\n",
       "      <td>0.578229</td>\n",
       "      <td>-0.037501</td>\n",
       "      <td>0.640134</td>\n",
       "      <td>0.265745</td>\n",
       "      <td>-0.087371</td>\n",
       "      <td>0.004455</td>\n",
       "      <td>-0.026561</td>\n",
       "      <td>67.88</td>\n",
       "      <td>0</td>\n",
       "    </tr>\n",
       "    <tr>\n",
       "      <th>284805</th>\n",
       "      <td>172788.0</td>\n",
       "      <td>-0.240440</td>\n",
       "      <td>0.530483</td>\n",
       "      <td>0.702510</td>\n",
       "      <td>0.689799</td>\n",
       "      <td>-0.377961</td>\n",
       "      <td>0.623708</td>\n",
       "      <td>-0.686180</td>\n",
       "      <td>0.679145</td>\n",
       "      <td>0.392087</td>\n",
       "      <td>...</td>\n",
       "      <td>0.265245</td>\n",
       "      <td>0.800049</td>\n",
       "      <td>-0.163298</td>\n",
       "      <td>0.123205</td>\n",
       "      <td>-0.569159</td>\n",
       "      <td>0.546668</td>\n",
       "      <td>0.108821</td>\n",
       "      <td>0.104533</td>\n",
       "      <td>10.00</td>\n",
       "      <td>0</td>\n",
       "    </tr>\n",
       "    <tr>\n",
       "      <th>284806</th>\n",
       "      <td>172792.0</td>\n",
       "      <td>-0.533413</td>\n",
       "      <td>-0.189733</td>\n",
       "      <td>0.703337</td>\n",
       "      <td>-0.506271</td>\n",
       "      <td>-0.012546</td>\n",
       "      <td>-0.649617</td>\n",
       "      <td>1.577006</td>\n",
       "      <td>-0.414650</td>\n",
       "      <td>0.486180</td>\n",
       "      <td>...</td>\n",
       "      <td>0.261057</td>\n",
       "      <td>0.643078</td>\n",
       "      <td>0.376777</td>\n",
       "      <td>0.008797</td>\n",
       "      <td>-0.473649</td>\n",
       "      <td>-0.818267</td>\n",
       "      <td>-0.002415</td>\n",
       "      <td>0.013649</td>\n",
       "      <td>217.00</td>\n",
       "      <td>0</td>\n",
       "    </tr>\n",
       "  </tbody>\n",
       "</table>\n",
       "<p>5 rows × 31 columns</p>\n",
       "</div>"
      ],
      "text/plain": [
       "            Time         V1         V2        V3        V4        V5  \\\n",
       "284802  172786.0 -11.881118  10.071785 -9.834783 -2.066656 -5.364473   \n",
       "284803  172787.0  -0.732789  -0.055080  2.035030 -0.738589  0.868229   \n",
       "284804  172788.0   1.919565  -0.301254 -3.249640 -0.557828  2.630515   \n",
       "284805  172788.0  -0.240440   0.530483  0.702510  0.689799 -0.377961   \n",
       "284806  172792.0  -0.533413  -0.189733  0.703337 -0.506271 -0.012546   \n",
       "\n",
       "              V6        V7        V8        V9  ...         V21       V22  \\\n",
       "284802 -2.606837 -4.918215  7.305334  1.914428  ...    0.213454  0.111864   \n",
       "284803  1.058415  0.024330  0.294869  0.584800  ...    0.214205  0.924384   \n",
       "284804  3.031260 -0.296827  0.708417  0.432454  ...    0.232045  0.578229   \n",
       "284805  0.623708 -0.686180  0.679145  0.392087  ...    0.265245  0.800049   \n",
       "284806 -0.649617  1.577006 -0.414650  0.486180  ...    0.261057  0.643078   \n",
       "\n",
       "             V23       V24       V25       V26       V27       V28  Amount  \\\n",
       "284802  1.014480 -0.509348  1.436807  0.250034  0.943651  0.823731    0.77   \n",
       "284803  0.012463 -1.016226 -0.606624 -0.395255  0.068472 -0.053527   24.79   \n",
       "284804 -0.037501  0.640134  0.265745 -0.087371  0.004455 -0.026561   67.88   \n",
       "284805 -0.163298  0.123205 -0.569159  0.546668  0.108821  0.104533   10.00   \n",
       "284806  0.376777  0.008797 -0.473649 -0.818267 -0.002415  0.013649  217.00   \n",
       "\n",
       "        Class  \n",
       "284802      0  \n",
       "284803      0  \n",
       "284804      0  \n",
       "284805      0  \n",
       "284806      0  \n",
       "\n",
       "[5 rows x 31 columns]"
      ]
     },
     "execution_count": 10,
     "metadata": {},
     "output_type": "execute_result"
    }
   ],
   "source": [
    "df.tail()"
   ]
  },
  {
   "cell_type": "code",
   "execution_count": 11,
   "metadata": {},
   "outputs": [
    {
     "data": {
      "text/html": [
       "<div>\n",
       "<style>\n",
       "    .dataframe thead tr:only-child th {\n",
       "        text-align: right;\n",
       "    }\n",
       "\n",
       "    .dataframe thead th {\n",
       "        text-align: left;\n",
       "    }\n",
       "\n",
       "    .dataframe tbody tr th {\n",
       "        vertical-align: top;\n",
       "    }\n",
       "</style>\n",
       "<table border=\"1\" class=\"dataframe\">\n",
       "  <thead>\n",
       "    <tr style=\"text-align: right;\">\n",
       "      <th></th>\n",
       "      <th>Time</th>\n",
       "      <th>V1</th>\n",
       "      <th>V2</th>\n",
       "      <th>V3</th>\n",
       "      <th>V4</th>\n",
       "      <th>V5</th>\n",
       "      <th>V6</th>\n",
       "      <th>V7</th>\n",
       "      <th>V8</th>\n",
       "      <th>V9</th>\n",
       "      <th>...</th>\n",
       "      <th>V21</th>\n",
       "      <th>V22</th>\n",
       "      <th>V23</th>\n",
       "      <th>V24</th>\n",
       "      <th>V25</th>\n",
       "      <th>V26</th>\n",
       "      <th>V27</th>\n",
       "      <th>V28</th>\n",
       "      <th>Amount</th>\n",
       "      <th>Class</th>\n",
       "    </tr>\n",
       "  </thead>\n",
       "  <tbody>\n",
       "    <tr>\n",
       "      <th>count</th>\n",
       "      <td>284807.000000</td>\n",
       "      <td>2.848070e+05</td>\n",
       "      <td>2.848070e+05</td>\n",
       "      <td>2.848070e+05</td>\n",
       "      <td>2.848070e+05</td>\n",
       "      <td>2.848070e+05</td>\n",
       "      <td>2.848070e+05</td>\n",
       "      <td>2.848070e+05</td>\n",
       "      <td>2.848070e+05</td>\n",
       "      <td>2.848070e+05</td>\n",
       "      <td>...</td>\n",
       "      <td>2.848070e+05</td>\n",
       "      <td>2.848070e+05</td>\n",
       "      <td>2.848070e+05</td>\n",
       "      <td>2.848070e+05</td>\n",
       "      <td>2.848070e+05</td>\n",
       "      <td>2.848070e+05</td>\n",
       "      <td>2.848070e+05</td>\n",
       "      <td>2.848070e+05</td>\n",
       "      <td>284807.000000</td>\n",
       "      <td>284807.000000</td>\n",
       "    </tr>\n",
       "    <tr>\n",
       "      <th>mean</th>\n",
       "      <td>94813.859575</td>\n",
       "      <td>3.919560e-15</td>\n",
       "      <td>5.688174e-16</td>\n",
       "      <td>-8.769071e-15</td>\n",
       "      <td>2.782312e-15</td>\n",
       "      <td>-1.552563e-15</td>\n",
       "      <td>2.010663e-15</td>\n",
       "      <td>-1.694249e-15</td>\n",
       "      <td>-1.927028e-16</td>\n",
       "      <td>-3.137024e-15</td>\n",
       "      <td>...</td>\n",
       "      <td>1.537294e-16</td>\n",
       "      <td>7.959909e-16</td>\n",
       "      <td>5.367590e-16</td>\n",
       "      <td>4.458112e-15</td>\n",
       "      <td>1.453003e-15</td>\n",
       "      <td>1.699104e-15</td>\n",
       "      <td>-3.660161e-16</td>\n",
       "      <td>-1.206049e-16</td>\n",
       "      <td>88.349619</td>\n",
       "      <td>0.001727</td>\n",
       "    </tr>\n",
       "    <tr>\n",
       "      <th>std</th>\n",
       "      <td>47488.145955</td>\n",
       "      <td>1.958696e+00</td>\n",
       "      <td>1.651309e+00</td>\n",
       "      <td>1.516255e+00</td>\n",
       "      <td>1.415869e+00</td>\n",
       "      <td>1.380247e+00</td>\n",
       "      <td>1.332271e+00</td>\n",
       "      <td>1.237094e+00</td>\n",
       "      <td>1.194353e+00</td>\n",
       "      <td>1.098632e+00</td>\n",
       "      <td>...</td>\n",
       "      <td>7.345240e-01</td>\n",
       "      <td>7.257016e-01</td>\n",
       "      <td>6.244603e-01</td>\n",
       "      <td>6.056471e-01</td>\n",
       "      <td>5.212781e-01</td>\n",
       "      <td>4.822270e-01</td>\n",
       "      <td>4.036325e-01</td>\n",
       "      <td>3.300833e-01</td>\n",
       "      <td>250.120109</td>\n",
       "      <td>0.041527</td>\n",
       "    </tr>\n",
       "    <tr>\n",
       "      <th>min</th>\n",
       "      <td>0.000000</td>\n",
       "      <td>-5.640751e+01</td>\n",
       "      <td>-7.271573e+01</td>\n",
       "      <td>-4.832559e+01</td>\n",
       "      <td>-5.683171e+00</td>\n",
       "      <td>-1.137433e+02</td>\n",
       "      <td>-2.616051e+01</td>\n",
       "      <td>-4.355724e+01</td>\n",
       "      <td>-7.321672e+01</td>\n",
       "      <td>-1.343407e+01</td>\n",
       "      <td>...</td>\n",
       "      <td>-3.483038e+01</td>\n",
       "      <td>-1.093314e+01</td>\n",
       "      <td>-4.480774e+01</td>\n",
       "      <td>-2.836627e+00</td>\n",
       "      <td>-1.029540e+01</td>\n",
       "      <td>-2.604551e+00</td>\n",
       "      <td>-2.256568e+01</td>\n",
       "      <td>-1.543008e+01</td>\n",
       "      <td>0.000000</td>\n",
       "      <td>0.000000</td>\n",
       "    </tr>\n",
       "    <tr>\n",
       "      <th>25%</th>\n",
       "      <td>54201.500000</td>\n",
       "      <td>-9.203734e-01</td>\n",
       "      <td>-5.985499e-01</td>\n",
       "      <td>-8.903648e-01</td>\n",
       "      <td>-8.486401e-01</td>\n",
       "      <td>-6.915971e-01</td>\n",
       "      <td>-7.682956e-01</td>\n",
       "      <td>-5.540759e-01</td>\n",
       "      <td>-2.086297e-01</td>\n",
       "      <td>-6.430976e-01</td>\n",
       "      <td>...</td>\n",
       "      <td>-2.283949e-01</td>\n",
       "      <td>-5.423504e-01</td>\n",
       "      <td>-1.618463e-01</td>\n",
       "      <td>-3.545861e-01</td>\n",
       "      <td>-3.171451e-01</td>\n",
       "      <td>-3.269839e-01</td>\n",
       "      <td>-7.083953e-02</td>\n",
       "      <td>-5.295979e-02</td>\n",
       "      <td>5.600000</td>\n",
       "      <td>0.000000</td>\n",
       "    </tr>\n",
       "    <tr>\n",
       "      <th>50%</th>\n",
       "      <td>84692.000000</td>\n",
       "      <td>1.810880e-02</td>\n",
       "      <td>6.548556e-02</td>\n",
       "      <td>1.798463e-01</td>\n",
       "      <td>-1.984653e-02</td>\n",
       "      <td>-5.433583e-02</td>\n",
       "      <td>-2.741871e-01</td>\n",
       "      <td>4.010308e-02</td>\n",
       "      <td>2.235804e-02</td>\n",
       "      <td>-5.142873e-02</td>\n",
       "      <td>...</td>\n",
       "      <td>-2.945017e-02</td>\n",
       "      <td>6.781943e-03</td>\n",
       "      <td>-1.119293e-02</td>\n",
       "      <td>4.097606e-02</td>\n",
       "      <td>1.659350e-02</td>\n",
       "      <td>-5.213911e-02</td>\n",
       "      <td>1.342146e-03</td>\n",
       "      <td>1.124383e-02</td>\n",
       "      <td>22.000000</td>\n",
       "      <td>0.000000</td>\n",
       "    </tr>\n",
       "    <tr>\n",
       "      <th>75%</th>\n",
       "      <td>139320.500000</td>\n",
       "      <td>1.315642e+00</td>\n",
       "      <td>8.037239e-01</td>\n",
       "      <td>1.027196e+00</td>\n",
       "      <td>7.433413e-01</td>\n",
       "      <td>6.119264e-01</td>\n",
       "      <td>3.985649e-01</td>\n",
       "      <td>5.704361e-01</td>\n",
       "      <td>3.273459e-01</td>\n",
       "      <td>5.971390e-01</td>\n",
       "      <td>...</td>\n",
       "      <td>1.863772e-01</td>\n",
       "      <td>5.285536e-01</td>\n",
       "      <td>1.476421e-01</td>\n",
       "      <td>4.395266e-01</td>\n",
       "      <td>3.507156e-01</td>\n",
       "      <td>2.409522e-01</td>\n",
       "      <td>9.104512e-02</td>\n",
       "      <td>7.827995e-02</td>\n",
       "      <td>77.165000</td>\n",
       "      <td>0.000000</td>\n",
       "    </tr>\n",
       "    <tr>\n",
       "      <th>max</th>\n",
       "      <td>172792.000000</td>\n",
       "      <td>2.454930e+00</td>\n",
       "      <td>2.205773e+01</td>\n",
       "      <td>9.382558e+00</td>\n",
       "      <td>1.687534e+01</td>\n",
       "      <td>3.480167e+01</td>\n",
       "      <td>7.330163e+01</td>\n",
       "      <td>1.205895e+02</td>\n",
       "      <td>2.000721e+01</td>\n",
       "      <td>1.559499e+01</td>\n",
       "      <td>...</td>\n",
       "      <td>2.720284e+01</td>\n",
       "      <td>1.050309e+01</td>\n",
       "      <td>2.252841e+01</td>\n",
       "      <td>4.584549e+00</td>\n",
       "      <td>7.519589e+00</td>\n",
       "      <td>3.517346e+00</td>\n",
       "      <td>3.161220e+01</td>\n",
       "      <td>3.384781e+01</td>\n",
       "      <td>25691.160000</td>\n",
       "      <td>1.000000</td>\n",
       "    </tr>\n",
       "  </tbody>\n",
       "</table>\n",
       "<p>8 rows × 31 columns</p>\n",
       "</div>"
      ],
      "text/plain": [
       "                Time            V1            V2            V3            V4  \\\n",
       "count  284807.000000  2.848070e+05  2.848070e+05  2.848070e+05  2.848070e+05   \n",
       "mean    94813.859575  3.919560e-15  5.688174e-16 -8.769071e-15  2.782312e-15   \n",
       "std     47488.145955  1.958696e+00  1.651309e+00  1.516255e+00  1.415869e+00   \n",
       "min         0.000000 -5.640751e+01 -7.271573e+01 -4.832559e+01 -5.683171e+00   \n",
       "25%     54201.500000 -9.203734e-01 -5.985499e-01 -8.903648e-01 -8.486401e-01   \n",
       "50%     84692.000000  1.810880e-02  6.548556e-02  1.798463e-01 -1.984653e-02   \n",
       "75%    139320.500000  1.315642e+00  8.037239e-01  1.027196e+00  7.433413e-01   \n",
       "max    172792.000000  2.454930e+00  2.205773e+01  9.382558e+00  1.687534e+01   \n",
       "\n",
       "                 V5            V6            V7            V8            V9  \\\n",
       "count  2.848070e+05  2.848070e+05  2.848070e+05  2.848070e+05  2.848070e+05   \n",
       "mean  -1.552563e-15  2.010663e-15 -1.694249e-15 -1.927028e-16 -3.137024e-15   \n",
       "std    1.380247e+00  1.332271e+00  1.237094e+00  1.194353e+00  1.098632e+00   \n",
       "min   -1.137433e+02 -2.616051e+01 -4.355724e+01 -7.321672e+01 -1.343407e+01   \n",
       "25%   -6.915971e-01 -7.682956e-01 -5.540759e-01 -2.086297e-01 -6.430976e-01   \n",
       "50%   -5.433583e-02 -2.741871e-01  4.010308e-02  2.235804e-02 -5.142873e-02   \n",
       "75%    6.119264e-01  3.985649e-01  5.704361e-01  3.273459e-01  5.971390e-01   \n",
       "max    3.480167e+01  7.330163e+01  1.205895e+02  2.000721e+01  1.559499e+01   \n",
       "\n",
       "           ...                 V21           V22           V23           V24  \\\n",
       "count      ...        2.848070e+05  2.848070e+05  2.848070e+05  2.848070e+05   \n",
       "mean       ...        1.537294e-16  7.959909e-16  5.367590e-16  4.458112e-15   \n",
       "std        ...        7.345240e-01  7.257016e-01  6.244603e-01  6.056471e-01   \n",
       "min        ...       -3.483038e+01 -1.093314e+01 -4.480774e+01 -2.836627e+00   \n",
       "25%        ...       -2.283949e-01 -5.423504e-01 -1.618463e-01 -3.545861e-01   \n",
       "50%        ...       -2.945017e-02  6.781943e-03 -1.119293e-02  4.097606e-02   \n",
       "75%        ...        1.863772e-01  5.285536e-01  1.476421e-01  4.395266e-01   \n",
       "max        ...        2.720284e+01  1.050309e+01  2.252841e+01  4.584549e+00   \n",
       "\n",
       "                V25           V26           V27           V28         Amount  \\\n",
       "count  2.848070e+05  2.848070e+05  2.848070e+05  2.848070e+05  284807.000000   \n",
       "mean   1.453003e-15  1.699104e-15 -3.660161e-16 -1.206049e-16      88.349619   \n",
       "std    5.212781e-01  4.822270e-01  4.036325e-01  3.300833e-01     250.120109   \n",
       "min   -1.029540e+01 -2.604551e+00 -2.256568e+01 -1.543008e+01       0.000000   \n",
       "25%   -3.171451e-01 -3.269839e-01 -7.083953e-02 -5.295979e-02       5.600000   \n",
       "50%    1.659350e-02 -5.213911e-02  1.342146e-03  1.124383e-02      22.000000   \n",
       "75%    3.507156e-01  2.409522e-01  9.104512e-02  7.827995e-02      77.165000   \n",
       "max    7.519589e+00  3.517346e+00  3.161220e+01  3.384781e+01   25691.160000   \n",
       "\n",
       "               Class  \n",
       "count  284807.000000  \n",
       "mean        0.001727  \n",
       "std         0.041527  \n",
       "min         0.000000  \n",
       "25%         0.000000  \n",
       "50%         0.000000  \n",
       "75%         0.000000  \n",
       "max         1.000000  \n",
       "\n",
       "[8 rows x 31 columns]"
      ]
     },
     "execution_count": 11,
     "metadata": {},
     "output_type": "execute_result"
    }
   ],
   "source": [
    "df.describe()"
   ]
  },
  {
   "cell_type": "markdown",
   "metadata": {},
   "source": [
    "#### Target variable"
   ]
  },
  {
   "cell_type": "code",
   "execution_count": 12,
   "metadata": {},
   "outputs": [
    {
     "data": {
      "text/plain": [
       "0    284315\n",
       "1       492\n",
       "Name: Class, dtype: int64"
      ]
     },
     "execution_count": 12,
     "metadata": {},
     "output_type": "execute_result"
    }
   ],
   "source": [
    "df['Class'].value_counts()"
   ]
  },
  {
   "cell_type": "code",
   "execution_count": 13,
   "metadata": {},
   "outputs": [
    {
     "name": "stdout",
     "output_type": "stream",
     "text": [
      "Percent of fraud transactions: 0.17 %\n"
     ]
    }
   ],
   "source": [
    "print('Percent of fraud transactions: {} %'.format(round(df['Class'].value_counts(normalize=True)[1]*100,2)))"
   ]
  },
  {
   "cell_type": "markdown",
   "metadata": {},
   "source": [
    "Data set is highly imbalanced. Appropriate techniques to ensure proper model designing and validation should be applied.\n",
    "Data is anonimized, the structure looks like the result of reduction technique like PCA. Only the amount and time of transaction are visible, rest of features are anonimized and transformed. "
   ]
  },
  {
   "cell_type": "code",
   "execution_count": 14,
   "metadata": {},
   "outputs": [
    {
     "data": {
      "text/plain": [
       "<matplotlib.axes._subplots.AxesSubplot at 0x1863c180278>"
      ]
     },
     "execution_count": 14,
     "metadata": {},
     "output_type": "execute_result"
    },
    {
     "data": {
      "image/png": "[encoded data removed]",
      "text/plain": [
       "<Figure size 576x432 with 1 Axes>"
      ]
     },
     "metadata": {},
     "output_type": "display_data"
    }
   ],
   "source": [
    "df['Amount'].hist(bins=50,figsize=(8,6))"
   ]
  },
  {
   "cell_type": "code",
   "execution_count": 15,
   "metadata": {},
   "outputs": [
    {
     "data": {
      "text/plain": [
       "<matplotlib.axes._subplots.AxesSubplot at 0x1863c1eecc0>"
      ]
     },
     "execution_count": 15,
     "metadata": {},
     "output_type": "execute_result"
    },
    {
     "data": {
      "image/png": "[encoded data removed]",
      "text/plain": [
       "<Figure size 576x432 with 1 Axes>"
      ]
     },
     "metadata": {},
     "output_type": "display_data"
    }
   ],
   "source": [
    "df[df['Class']==1]['Amount'].hist(bins=100,figsize=(8,6))"
   ]
  },
  {
   "cell_type": "code",
   "execution_count": 16,
   "metadata": {},
   "outputs": [
    {
     "data": {
      "text/plain": [
       "<matplotlib.axes._subplots.AxesSubplot at 0x1863c92f4e0>"
      ]
     },
     "execution_count": 16,
     "metadata": {},
     "output_type": "execute_result"
    },
    {
     "data": {
      "image/png": "[encoded data removed]",
      "text/plain": [
       "<Figure size 576x432 with 1 Axes>"
      ]
     },
     "metadata": {},
     "output_type": "display_data"
    }
   ],
   "source": [
    "df[(df['Class']==1)&(df['Amount']<500)]['Amount'].hist(bins=100,figsize=(8,6))"
   ]
  },
  {
   "cell_type": "markdown",
   "metadata": {},
   "source": [
    "It is visible that fraud transactions concerncs relatively small values. "
   ]
  },
  {
   "cell_type": "code",
   "execution_count": 17,
   "metadata": {},
   "outputs": [
    {
     "data": {
      "text/plain": [
       "<matplotlib.axes._subplots.AxesSubplot at 0x1863cac4b70>"
      ]
     },
     "execution_count": 17,
     "metadata": {},
     "output_type": "execute_result"
    },
    {
     "data": {
      "image/png": "[encoded data removed]",
      "text/plain": [
       "<Figure size 576x360 with 1 Axes>"
      ]
     },
     "metadata": {},
     "output_type": "display_data"
    }
   ],
   "source": [
    "df['Time'].hist(bins=50,figsize=(8,5))"
   ]
  },
  {
   "cell_type": "markdown",
   "metadata": {},
   "source": [
    "Taking into consideration that we have approximately 175 000 values it looks like the data concerns transactions from two days. \n",
    "Visualization shows that the number of transactions is relatively small at some time windows. "
   ]
  },
  {
   "cell_type": "code",
   "execution_count": 18,
   "metadata": {},
   "outputs": [
    {
     "data": {
      "text/plain": [
       "<matplotlib.axes._subplots.AxesSubplot at 0x1863ce62da0>"
      ]
     },
     "execution_count": 18,
     "metadata": {},
     "output_type": "execute_result"
    },
    {
     "data": {
      "image/png": "[encoded data removed]",
      "text/plain": [
       "<Figure size 576x360 with 1 Axes>"
      ]
     },
     "metadata": {},
     "output_type": "display_data"
    }
   ],
   "source": [
    "df[df['Class']==1]['Time'].hist(bins=50,figsize=(8,5))"
   ]
  },
  {
   "cell_type": "markdown",
   "metadata": {
    "collapsed": true
   },
   "source": [
    "We can see some peaks of the number of fraud transaction in time."
   ]
  },
  {
   "cell_type": "code",
   "execution_count": 19,
   "metadata": {},
   "outputs": [
    {
     "data": {
      "image/png": "[encoded data removed]",
      "text/plain": [
       "<Figure size 1440x1080 with 30 Axes>"
      ]
     },
     "metadata": {},
     "output_type": "display_data"
    }
   ],
   "source": [
    "c=[x for x in df.columns if x not in ['Amount','Class','Time']]\n",
    "df[c].hist(bins=50,figsize=(20,15))\n",
    "plt.show()"
   ]
  },
  {
   "cell_type": "markdown",
   "metadata": {},
   "source": [
    "After initial data analysis, I've started building models to check performance on raw data."
   ]
  },
  {
   "cell_type": "code",
   "execution_count": 20,
   "metadata": {
    "collapsed": true
   },
   "outputs": [],
   "source": [
    "X = df.loc[:,df.columns!='Class'].values \n",
    "y = df['Class'].values"
   ]
  },
  {
   "cell_type": "code",
   "execution_count": 21,
   "metadata": {
    "collapsed": true
   },
   "outputs": [],
   "source": [
    "def train_and_predict(model, X, y, test_size=0.3, matrix=False):\n",
    "    \n",
    "    X_train, X_test, y_train, y_test = train_test_split(X, y, test_size=test_size, random_state=2019)    \n",
    "    \n",
    "    model.fit(X_train, y_train)    \n",
    "    y_pred = model.predict(X_test) \n",
    "    \n",
    "    acc= np.round(accuracy_score(y_test, y_pred),3)\n",
    "    prec= np.round(precision_score(y_test, y_pred),3)\n",
    "    recc= np.round(recall_score(y_test, y_pred),3)\n",
    "    f1= np.round(f1_score(y_test, y_pred),3)\n",
    "    \n",
    "    if matrix==True:\n",
    "        print('confusion matrix','\\n',confusion_matrix(y_test,y_pred))\n",
    "        \n",
    "    return acc, recc, prec, f1"
   ]
  },
  {
   "cell_type": "markdown",
   "metadata": {},
   "source": [
    "#### Full data set"
   ]
  },
  {
   "cell_type": "code",
   "execution_count": 24,
   "metadata": {},
   "outputs": [
    {
     "name": "stdout",
     "output_type": "stream",
     "text": [
      "     Model      (accuracy, recall, precision, f1)  \n",
      "DummyClassifier (0.997, 0.0, 0.0, 0.0)\n",
      "LogisticRegression (0.999, 0.699, 0.748, 0.723)\n",
      "DecisionTreeClassifier (0.999, 0.797, 0.753, 0.775)\n",
      "RandomForestClassifier (1.0, 0.804, 0.918, 0.857)\n",
      "XGBClassifier (0.999, 0.784, 0.889, 0.833)\n",
      "GradientBoostingClassifier (0.999, 0.712, 0.865, 0.781)\n"
     ]
    }
   ],
   "source": [
    "models=[DummyClassifier(random_state=2019),\n",
    "        LogisticRegression(random_state=2019),\n",
    "        DecisionTreeClassifier(random_state=2019),\n",
    "        RandomForestClassifier(random_state=2019),\n",
    "        xgb.XGBClassifier(random_state=2019),\n",
    "        GradientBoostingClassifier(random_state=2019)]\n",
    "\n",
    "print('     Model      (accuracy, recall, precision, f1)  ')\n",
    "for m in models:\n",
    "    print(type(m).__name__,train_and_predict(m, X, y, test_size=0.3))"
   ]
  },
  {
   "cell_type": "markdown",
   "metadata": {},
   "source": [
    "#### Full data set with balanced weight"
   ]
  },
  {
   "cell_type": "code",
   "execution_count": 25,
   "metadata": {},
   "outputs": [
    {
     "name": "stdout",
     "output_type": "stream",
     "text": [
      "     Model      (accuracy, recall, precision, f1)  \n",
      "LogisticRegression (0.975, 0.935, 0.064, 0.12)\n",
      "RandomForestClassifier (0.999, 0.752, 0.943, 0.836)\n",
      "DecisionTreeClassifier (0.999, 0.752, 0.762, 0.757)\n"
     ]
    }
   ],
   "source": [
    "models=[LogisticRegression(class_weight='balanced',random_state=2019),\n",
    "        RandomForestClassifier(class_weight='balanced_subsample',random_state=2019),\n",
    "        DecisionTreeClassifier(class_weight='balanced',random_state=2019)]\n",
    "\n",
    "print('     Model      (accuracy, recall, precision, f1)  ')\n",
    "for m in models:\n",
    "    print(type(m).__name__,train_and_predict(m, X, y, test_size=0.3))"
   ]
  },
  {
   "cell_type": "markdown",
   "metadata": {},
   "source": [
    "RandomForestClassifier achieved better performance on full dataset than others. \n",
    "Using balanced class weight results in much higher recall in logistic regression, however model has completely lost precision, \n",
    "it predicts a lot of false positive values. The results of RandomForestClassifier are quiet optimistic, however it should be invesigated more precisely."
   ]
  },
  {
   "cell_type": "markdown",
   "metadata": {
    "collapsed": true
   },
   "source": [
    "#### Feature engineering "
   ]
  },
  {
   "cell_type": "markdown",
   "metadata": {},
   "source": [
    "Amount of transaction has been standardized, some features have been also added."
   ]
  },
  {
   "cell_type": "code",
   "execution_count": 26,
   "metadata": {},
   "outputs": [],
   "source": [
    "def feature_eng(df):\n",
    "    \n",
    "    df['Amount_scaled'] = RobustScaler().fit_transform(df['Amount'].reshape(-1, 1))\n",
    "    df['Amount_1']=df['Amount'].apply(lambda x: 1 if x==1 else 0)\n",
    "    df['Amount_100']=df['Amount'].apply(lambda x: 1 if x==100 else 0)\n",
    "    df['Day']=df['Time'].apply(lambda x: 1 if x<=86400 else 2)\n",
    "    df['Day_time']=df['Time'].apply(lambda x: x if x<=86400 else x-86400)\n",
    "    \n",
    "    return df"
   ]
  },
  {
   "cell_type": "code",
   "execution_count": 27,
   "metadata": {},
   "outputs": [
    {
     "name": "stdout",
     "output_type": "stream",
     "text": [
      "(284807, 36)\n"
     ]
    }
   ],
   "source": [
    "df=feature_eng(df)\n",
    "print(df.shape)"
   ]
  },
  {
   "cell_type": "markdown",
   "metadata": {},
   "source": [
    "#### Splitting data"
   ]
  },
  {
   "cell_type": "markdown",
   "metadata": {},
   "source": [
    "I have splitted data into train and test sample. Train is used in cross validation, test only in final validation of models. Splitting is based on Class feature to ensure the same proportions of fraud and not fraud data. "
   ]
  },
  {
   "cell_type": "code",
   "execution_count": 28,
   "metadata": {
    "collapsed": true
   },
   "outputs": [],
   "source": [
    "split=StratifiedShuffleSplit(n_splits=1, test_size=0.3, random_state=2019)\n",
    "\n",
    "for train_index, test_index in split.split(df,df[['Class']]):\n",
    "    train=df.loc[train_index]\n",
    "    test=df.loc[test_index]\n",
    "    \n",
    "train=train.reset_index()\n",
    "test=test.reset_index()"
   ]
  },
  {
   "cell_type": "code",
   "execution_count": 29,
   "metadata": {},
   "outputs": [
    {
     "name": "stdout",
     "output_type": "stream",
     "text": [
      "Percent of fraud in full data set: 0.17%\n",
      "Percent of fraud in train data set: 0.17%\n",
      "Percent of fraud  in test data set: 0.17%\n"
     ]
    }
   ],
   "source": [
    "print('Percent of fraud in full data set: {}%'.format(round(df['Class'].value_counts(normalize=True)[1]*100,2)))\n",
    "print('Percent of fraud in train data set: {}%'.format(round(train['Class'].value_counts(normalize=True)[1]*100,2)))\n",
    "print('Percent of fraud  in test data set: {}%'.format(round(test['Class'].value_counts(normalize=True)[1]*100,2)))"
   ]
  },
  {
   "cell_type": "markdown",
   "metadata": {},
   "source": [
    "#### Functions used to perform model validation:"
   ]
  },
  {
   "cell_type": "code",
   "execution_count": 30,
   "metadata": {
    "collapsed": true
   },
   "outputs": [],
   "source": [
    "from sklearn.base import clone\n",
    "\n",
    "def my_cv (m, x, y):\n",
    "    \n",
    "    cv = StratifiedKFold(n_splits=5, random_state=2018, shuffle=True)  \n",
    "    \n",
    "    scores_r = []\n",
    "    scores_p = []\n",
    "    scores_f = []\n",
    "    \n",
    "    for train_idx, test_idx in cv.split(x,y): \n",
    "        \n",
    "        model=clone(m)\n",
    "        model.fit(x.loc[train_idx], y[train_idx])\n",
    "        y_pred = model.predict (x.loc[test_idx])  \n",
    "        \n",
    "        score1 = recall_score(y[test_idx], y_pred)\n",
    "        score2 = precision_score(y[test_idx], y_pred)\n",
    "        score3 = f1_score(y[test_idx], y_pred)\n",
    "        \n",
    "        scores_r.append(score1)\n",
    "        scores_p.append(score2)\n",
    "        scores_f.append(score3) \n",
    "        \n",
    "    return round(np.mean(scores_r),3), round(np.mean(scores_p),3), round(np.mean(scores_f),3)"
   ]
  },
  {
   "cell_type": "code",
   "execution_count": 31,
   "metadata": {},
   "outputs": [
    {
     "name": "stdout",
     "output_type": "stream",
     "text": [
      "     Model      (recall, precision, f1)  \n",
      "LogisticRegression   (0.57, 0.853, 0.681)\n",
      "RandomForestClassifier   (0.759, 0.946, 0.842)\n"
     ]
    }
   ],
   "source": [
    "black_list=['Class','Time','Amount']\n",
    "features=[x for x in df.columns if x not in black_list ]\n",
    "X_cv = train.loc[:,features]\n",
    "y_cv = train.loc[:,'Class']\n",
    "\n",
    "models=[LogisticRegression(random_state=2019),\n",
    "        RandomForestClassifier(random_state=2019)]\n",
    "\n",
    "print('     Model      (recall, precision, f1)  ')\n",
    "for m in models:\n",
    "    print(type(m).__name__, ' ', my_cv(m, X_cv, y_cv))"
   ]
  },
  {
   "cell_type": "markdown",
   "metadata": {},
   "source": [
    "#### Learnig curves"
   ]
  },
  {
   "cell_type": "markdown",
   "metadata": {},
   "source": [
    "Let's look at learnig curves. As scoring metric I've choosen f1 to ensure good compromise between precision and recall."
   ]
  },
  {
   "cell_type": "code",
   "execution_count": 32,
   "metadata": {
    "collapsed": true
   },
   "outputs": [],
   "source": [
    "def plot_learning_curve(estimator, X, y, ylim=None, cv=None,\n",
    "                        n_jobs=None, train_sizes=np.linspace(.1, 1.0, 5)):\n",
    "    plt.figure()\n",
    "    if ylim is not None:\n",
    "        plt.ylim(*ylim)\n",
    "    plt.xlabel(\"Training examples\")\n",
    "    plt.ylabel(\"Score\")\n",
    "    train_sizes, train_scores, test_scores = learning_curve(estimator, X, y, cv=cv, n_jobs=n_jobs,\n",
    "                                                            train_sizes=train_sizes,scoring='f1')\n",
    "    train_scores_mean = np.mean(train_scores, axis=1)\n",
    "    train_scores_std = np.std(train_scores, axis=1)\n",
    "    test_scores_mean = np.mean(test_scores, axis=1)\n",
    "    test_scores_std = np.std(test_scores, axis=1)\n",
    "    plt.grid()\n",
    "    plt.fill_between(train_sizes, train_scores_mean - train_scores_std,\n",
    "                     train_scores_mean + train_scores_std, alpha=0.1, color=\"r\")\n",
    "    plt.fill_between(train_sizes, test_scores_mean - test_scores_std,\n",
    "                     test_scores_mean + test_scores_std, alpha=0.1, color=\"g\")\n",
    "    plt.plot(train_sizes, train_scores_mean, 'o-', color=\"r\",label=\"Training score\")\n",
    "    plt.plot(train_sizes, test_scores_mean, 'o-', color=\"g\",label=\"Cross-validation score\")\n",
    "    plt.title(type(estimator).__name__)\n",
    "    plt.legend(loc=\"best\")\n",
    "    return plt"
   ]
  },
  {
   "cell_type": "code",
   "execution_count": 33,
   "metadata": {},
   "outputs": [
    {
     "data": {
      "image/png": "[encoded data removed]",
      "text/plain": [
       "<Figure size 432x288 with 1 Axes>"
      ]
     },
     "metadata": {},
     "output_type": "display_data"
    },
    {
     "data": {
      "image/png": "[encoded data removed]",
      "text/plain": [
       "<Figure size 432x288 with 1 Axes>"
      ]
     },
     "metadata": {},
     "output_type": "display_data"
    }
   ],
   "source": [
    "cv=StratifiedKFold(n_splits=4, random_state=2019, shuffle=True)\n",
    "\n",
    "for m in [LogisticRegression(random_state=2019), \n",
    "          RandomForestClassifier(random_state=2019)]:\n",
    "    plot_learning_curve(m, X_cv, y_cv, ylim=(0.5, 1.01), cv=cv)"
   ]
  },
  {
   "cell_type": "markdown",
   "metadata": {},
   "source": [
    "Learning curves shows that models using RandomForestClassifier is extremely overfitted. \n",
    "Only LogisticRegression curve looks correct. In case of RandomForestClassifier some regularization should be added, for example changing parameters. \n",
    "\n",
    "Basic hyperparameter tuning using GridSearchCV has been performed. As a result I've found paramaters which have been used in further analysis."
   ]
  },
  {
   "cell_type": "code",
   "execution_count": 34,
   "metadata": {},
   "outputs": [
    {
     "data": {
      "image/png": "[encoded data removed]",
      "text/plain": [
       "<Figure size 432x288 with 1 Axes>"
      ]
     },
     "metadata": {},
     "output_type": "display_data"
    },
    {
     "data": {
      "image/png": "[encoded data removed]",
      "text/plain": [
       "<Figure size 432x288 with 1 Axes>"
      ]
     },
     "metadata": {},
     "output_type": "display_data"
    }
   ],
   "source": [
    "models=[LogisticRegression(solver='lbfgs', C=0.1, random_state=2019),\n",
    "        RandomForestClassifier(max_depth=7, n_estimators=120, random_state=2019)]\n",
    "\n",
    "cv=StratifiedKFold(n_splits=4, random_state=2019, shuffle=True)\n",
    "\n",
    "for m in models:\n",
    "    plot_learning_curve(m, X_cv, y_cv, ylim=(0.5, 1.01), cv=cv)"
   ]
  },
  {
   "cell_type": "markdown",
   "metadata": {},
   "source": [
    "I've decided to consider only few parameters and check if it would have impact on overfitting. Results below shows that \n",
    "hyperparameter tuning has helped and models are less overfitted. Nevertheless curve for RandomForestClassifier is still not optimal."
   ]
  },
  {
   "cell_type": "markdown",
   "metadata": {},
   "source": [
    "Let's perform cross validation again, this time on models with tuned parameters."
   ]
  },
  {
   "cell_type": "code",
   "execution_count": 35,
   "metadata": {},
   "outputs": [
    {
     "name": "stdout",
     "output_type": "stream",
     "text": [
      "     Model      (recall, precision, f1)  \n",
      "RandomForestClassifier   (0.753, 0.927, 0.83)\n",
      "LogisticRegression   (0.645, 0.812, 0.716)\n"
     ]
    }
   ],
   "source": [
    "black_list=['Class','Amount','Time']\n",
    "features=[x for x in df.columns if x not in black_list ]\n",
    "\n",
    "X_cv = train.loc[:,features]\n",
    "y_cv = train.loc[:,'Class']\n",
    "\n",
    "models=[RandomForestClassifier(max_depth=7, n_estimators=120, random_state=2019),\n",
    "        LogisticRegression(solver='lbfgs', C=0.1, random_state=2019)]\n",
    "\n",
    "print('     Model      (recall, precision, f1)  ')\n",
    "for m in models:\n",
    "    print(type(m).__name__,' ',my_cv(m, X_cv, y_cv))"
   ]
  },
  {
   "cell_type": "markdown",
   "metadata": {},
   "source": [
    "#### Validation "
   ]
  },
  {
   "cell_type": "code",
   "execution_count": 36,
   "metadata": {
    "collapsed": true
   },
   "outputs": [],
   "source": [
    "def validation(model, df_train=None, df_test=None,  matrix=True):\n",
    "    \n",
    "    black_list=['Class','Amount','Time']\n",
    "    features=[x for x in df.columns if x not in black_list ]   \n",
    "    X = df_train.loc[:,features].values \n",
    "    y = df_train['Class'].values\n",
    " \n",
    "    X_test = df_test.loc[:,features].values\n",
    "    y_test = df_test['Class'].values\n",
    "    \n",
    "    print(type(model).__name__)\n",
    "    \n",
    "    model.fit(X,y)\n",
    "    y_pred=model.predict(X_test)\n",
    "\n",
    "    if matrix==True:\n",
    "        print('confusion matrix','\\n',confusion_matrix(y_test,y_pred))    \n",
    "        \n",
    "    rec=np.round(recall_score(y_test,y_pred),3)\n",
    "    prec=np.round(precision_score(y_test,y_pred),3)\n",
    "    f1=np.round(f1_score(y_test,y_pred),3)\n",
    "    \n",
    "    return rec, prec, f1   "
   ]
  },
  {
   "cell_type": "code",
   "execution_count": 37,
   "metadata": {},
   "outputs": [
    {
     "name": "stdout",
     "output_type": "stream",
     "text": [
      "RandomForestClassifier\n",
      "confusion matrix \n",
      " [[85289     6]\n",
      " [   37   111]]\n",
      "(rec, prec, f1) (0.75, 0.949, 0.838) \n",
      "\n",
      "LogisticRegression\n",
      "confusion matrix \n",
      " [[85269    26]\n",
      " [   42   106]]\n",
      "(rec, prec, f1) (0.716, 0.803, 0.757) \n",
      "\n"
     ]
    }
   ],
   "source": [
    "for m in models:\n",
    "    print('(rec, prec, f1)',validation(m, train, test),'\\n')"
   ]
  },
  {
   "cell_type": "markdown",
   "metadata": {},
   "source": [
    "Results are even better than in cross validation. \n",
    "RandomForestClassifier achieved better results, but we should remember about problem of overfitting."
   ]
  },
  {
   "cell_type": "markdown",
   "metadata": {},
   "source": [
    "#### Precision recall curves"
   ]
  },
  {
   "cell_type": "code",
   "execution_count": 38,
   "metadata": {
    "collapsed": true
   },
   "outputs": [],
   "source": [
    "def plot_precision_vs_recall(precisions, recalls):\n",
    "    \n",
    "    plt.plot(recalls, precisions, \"b-\", linewidth=2)\n",
    "    \n",
    "    plt.xlabel(\"Recall\", fontsize=14)\n",
    "    plt.ylabel(\"Precision\", fontsize=14)\n",
    "    \n",
    "    plt.axis([0, 1, 0, 1])"
   ]
  },
  {
   "cell_type": "code",
   "execution_count": 39,
   "metadata": {},
   "outputs": [
    {
     "name": "stdout",
     "output_type": "stream",
     "text": [
      "RandomForestClassifier\n"
     ]
    },
    {
     "data": {
      "image/png": "[encoded data removed]",
      "text/plain": [
       "<Figure size 432x288 with 1 Axes>"
      ]
     },
     "metadata": {},
     "output_type": "display_data"
    },
    {
     "name": "stdout",
     "output_type": "stream",
     "text": [
      "LogisticRegression\n"
     ]
    },
    {
     "data": {
      "image/png": "[encoded data removed]",
      "text/plain": [
       "<Figure size 432x288 with 1 Axes>"
      ]
     },
     "metadata": {},
     "output_type": "display_data"
    }
   ],
   "source": [
    "for m in models:\n",
    "    y_predict=cross_val_predict(m,X_cv, y_cv,cv=4,method='predict_proba')\n",
    "    y_pred=y_predict[:,-1]\n",
    "    \n",
    "    precisions, recalls,thresholds = precision_recall_curve(y_cv,y_pred) \n",
    "    \n",
    "    plt.figure(figsize=(6, 4))\n",
    "    print(type(m).__name__)\n",
    "    \n",
    "    plot_precision_vs_recall(precisions, recalls)\n",
    "    plt.show()"
   ]
  },
  {
   "cell_type": "markdown",
   "metadata": {},
   "source": [
    "Curves shows that in both cases we can achieve about 80% recall without losing precision. If we want more it is necessary to choose between one of this scores. There is also possibility to manipulate with threshold which is used by algorithm to make decision. Let's look on curves presenting dependency between precision, recall and threshold"
   ]
  },
  {
   "cell_type": "code",
   "execution_count": 40,
   "metadata": {
    "collapsed": true
   },
   "outputs": [],
   "source": [
    "def plot_precision_recall_vs_threshold(precisions, recalls, thresholds):\n",
    "    \n",
    "    plt.plot(thresholds, precisions[:-1], \"b--\", label=\"Precision\", linewidth=2)\n",
    "    plt.plot(thresholds, recalls[:-1], \"g-\", label=\"Recall\", linewidth=2)\n",
    "    \n",
    "    plt.xlabel(\"Threshold\", fontsize=12)\n",
    "    plt.legend(loc=\"down right\", fontsize=10)"
   ]
  },
  {
   "cell_type": "code",
   "execution_count": 41,
   "metadata": {},
   "outputs": [
    {
     "name": "stdout",
     "output_type": "stream",
     "text": [
      "RandomForestClassifier\n"
     ]
    },
    {
     "data": {
      "image/png": "[encoded data removed]",
      "text/plain": [
       "<Figure size 432x288 with 1 Axes>"
      ]
     },
     "metadata": {},
     "output_type": "display_data"
    },
    {
     "name": "stdout",
     "output_type": "stream",
     "text": [
      "LogisticRegression\n"
     ]
    },
    {
     "data": {
      "image/png": "[encoded data removed]",
      "text/plain": [
       "<Figure size 432x288 with 1 Axes>"
      ]
     },
     "metadata": {},
     "output_type": "display_data"
    }
   ],
   "source": [
    "for m in models:\n",
    "    y_predict = cross_val_predict(m, X_cv, y_cv, cv=4, method='predict_proba')\n",
    "    y_pred = y_predict[:,-1]\n",
    "    \n",
    "    precisions, recalls, thresholds = precision_recall_curve(y_cv, y_pred)  \n",
    "    \n",
    "    plt.figure(figsize=(6, 4))\n",
    "    print(type(m).__name__)\n",
    "    \n",
    "    plot_precision_recall_vs_threshold(precisions, recalls, thresholds)\n",
    "    plt.show()"
   ]
  },
  {
   "cell_type": "markdown",
   "metadata": {},
   "source": [
    "Default threshold is 0.5. According to curves, limiting threshold may result in higher recall, it is connected with loss of precision. "
   ]
  },
  {
   "cell_type": "markdown",
   "metadata": {},
   "source": [
    "####  ROC curve"
   ]
  },
  {
   "cell_type": "code",
   "execution_count": 42,
   "metadata": {
    "collapsed": true
   },
   "outputs": [],
   "source": [
    "def plot_roc_curve(fpr, tpr, label=None):  \n",
    "    \n",
    "    plt.plot(fpr, tpr, linewidth=2, label=label)\n",
    "    plt.plot([0, 1], [0, 1], 'k--')\n",
    "    \n",
    "    plt.axis([0, 1, 0, 1])\n",
    "    \n",
    "    plt.xlabel('False positive rate', fontsize=13)\n",
    "    plt.ylabel('True positive rate', fontsize=13)"
   ]
  },
  {
   "cell_type": "code",
   "execution_count": 43,
   "metadata": {},
   "outputs": [
    {
     "name": "stdout",
     "output_type": "stream",
     "text": [
      "RandomForestClassifier\n",
      "roc auc score: 97.02%\n"
     ]
    },
    {
     "data": {
      "image/png": "[encoded data removed]",
      "text/plain": [
       "<Figure size 432x288 with 1 Axes>"
      ]
     },
     "metadata": {},
     "output_type": "display_data"
    },
    {
     "name": "stdout",
     "output_type": "stream",
     "text": [
      "LogisticRegression\n",
      "roc auc score: 95.25%\n"
     ]
    },
    {
     "data": {
      "image/png": "[encoded data removed]",
      "text/plain": [
       "<Figure size 432x288 with 1 Axes>"
      ]
     },
     "metadata": {},
     "output_type": "display_data"
    }
   ],
   "source": [
    "for m in models:\n",
    "    y_predict=cross_val_predict(m,X_cv, y_cv,cv=4,method='predict_proba')\n",
    "    y_pred=y_predict[:,-1]\n",
    "    \n",
    "    fpr, tpr, thresholds = roc_curve(y_cv,y_pred) \n",
    "    \n",
    "    plt.figure(figsize=(6, 4))\n",
    "    print(type(m).__name__)\n",
    "    print('roc auc score: {}%' .format(round(roc_auc_score(y_cv,y_pred)*100,2)))\n",
    "    \n",
    "    plot_roc_curve(fpr, tpr)\n",
    "    plt.show()"
   ]
  },
  {
   "cell_type": "markdown",
   "metadata": {},
   "source": [
    "Roc curves looks pretty well, however when data is highly imbalanced, the results of this feature might be misleading. It is reasonable not to pay to much attention to this feature due to many true negative (non-fraud transactions)."
   ]
  },
  {
   "cell_type": "markdown",
   "metadata": {},
   "source": [
    "### Undersampling"
   ]
  },
  {
   "cell_type": "markdown",
   "metadata": {},
   "source": [
    "One of method which may be used working with imbalanced data is undersampling. In this part I random undersampling was perfromed in order to ensure same proportions between fraud and non-fraud data. "
   ]
  },
  {
   "cell_type": "code",
   "execution_count": 44,
   "metadata": {},
   "outputs": [],
   "source": [
    "number_fraud=len(train[train['Class']==1])\n",
    "\n",
    "fraud_idx = train[train['Class']==1].index\n",
    "normal_idx = train[train['Class']==0].index\n",
    "\n",
    "np.random.seed(2019)\n",
    "normal_idx_random = np.random.choice(normal_idx, number_fraud, replace=False)\n",
    "\n",
    "und_idx = np.concatenate([fraud_idx, normal_idx_random])\n",
    "np.random.shuffle(und_idx)\n",
    "\n",
    "und_df = train.iloc[und_idx,:]"
   ]
  },
  {
   "cell_type": "code",
   "execution_count": 45,
   "metadata": {},
   "outputs": [
    {
     "name": "stdout",
     "output_type": "stream",
     "text": [
      "Percent of fraud transactions in undersampled set: 50.0%\n",
      "Percent of non fraud transactions in undersampled set: 50.0%\n",
      "Number of fraud transactions in undersampled set: 344\n",
      "Number of non fraud transactions in undersampled set: 344\n"
     ]
    }
   ],
   "source": [
    "print('Percent of fraud transactions in undersampled set: {}%'.format(round(und_df['Class'].value_counts(normalize=True)[1]*100,2)))\n",
    "print('Percent of non fraud transactions in undersampled set: {}%'.format(round(und_df['Class'].value_counts(normalize=True)[0]*100,2)))\n",
    "\n",
    "print('Number of fraud transactions in undersampled set: {}'.format(und_df['Class'].value_counts(normalize=False)[1]))\n",
    "print('Number of non fraud transactions in undersampled set: {}'.format(und_df['Class'].value_counts(normalize=False)[0]))"
   ]
  },
  {
   "cell_type": "code",
   "execution_count": 46,
   "metadata": {},
   "outputs": [
    {
     "name": "stdout",
     "output_type": "stream",
     "text": [
      "     Model      (accuracy, recall, precision, f1)  \n",
      "LogisticRegression (0.952, 0.957, 0.938, 0.947)\n",
      "RandomForestClassifier (0.961, 0.936, 0.978, 0.957)\n"
     ]
    }
   ],
   "source": [
    "black_list=['Class','Time','Amount']\n",
    "features=[x for x in und_df.columns if x not in black_list ]\n",
    "X = und_df.loc[:,features].values \n",
    "y = und_df['Class'].values\n",
    "\n",
    "models=[LogisticRegression(random_state=2019),\n",
    "        RandomForestClassifier(random_state=2019)]\n",
    "\n",
    "print('     Model      (accuracy, recall, precision, f1)  ')\n",
    "for m in models:\n",
    "    print(type(m).__name__,train_and_predict(m, X, y, test_size=0.3))"
   ]
  },
  {
   "cell_type": "markdown",
   "metadata": {},
   "source": [
    "Results looks very optimistic however taking into consideration that data sample is very small there \n",
    "is a high risk of overfitting.\n",
    "In order to perform cross validation properly, I've prepared function in which undersampling is performing after \n",
    "splitting data into train and test. "
   ]
  },
  {
   "cell_type": "code",
   "execution_count": 47,
   "metadata": {
    "collapsed": true
   },
   "outputs": [],
   "source": [
    "def undersampling(xc, yc):  \n",
    "    \n",
    "    number_fraud = len(xc[yc==1]) \n",
    "    \n",
    "    fraud_idx = xc[yc==1].index\n",
    "    normal_idx = xc[yc==0].index \n",
    "    \n",
    "    np.random.seed(2019)\n",
    "    normal_idx_random = np.random.choice(normal_idx,number_fraud,replace=False)\n",
    "    \n",
    "    und_idx = np.concatenate([fraud_idx,normal_idx_random])\n",
    "    np.random.shuffle(und_idx)  \n",
    "    \n",
    "    return xc.loc[und_idx], yc[und_idx]"
   ]
  },
  {
   "cell_type": "code",
   "execution_count": 48,
   "metadata": {
    "collapsed": true
   },
   "outputs": [],
   "source": [
    "def cv_undersampling (m, xc, yc):\n",
    "    \n",
    "    cv = StratifiedKFold(n_splits=5, random_state=2019, shuffle=True)    \n",
    "    scores_r = []\n",
    "    scores_p = []\n",
    "    \n",
    "    for train_idx, test_idx in cv.split(xc,yc):      \n",
    "        x_tr=xc.loc[train_idx]\n",
    "        y_tr=yc.loc[train_idx]\n",
    "        x_t=xc.loc[test_idx]\n",
    "        y_t=yc.loc[test_idx]\n",
    "        \n",
    "        x, y = undersampling(x_tr, y_tr)      \n",
    "        model = clone(m)\n",
    "        model.fit(x, y)\n",
    "        y_pred = model.predict(x_t)\n",
    "        \n",
    "        score_r = recall_score(y_t, y_pred)\n",
    "        score_p = precision_score(y_t, y_pred)    \n",
    "        scores_r.append(score_r)\n",
    "        scores_p.append(score_p)   \n",
    "        \n",
    "    return (round(np.mean(scores_r),3)),(round(np.mean(scores_p),3))"
   ]
  },
  {
   "cell_type": "code",
   "execution_count": 49,
   "metadata": {},
   "outputs": [
    {
     "name": "stdout",
     "output_type": "stream",
     "text": [
      "RandomForestClassifier (recall, precision) (0.895, 0.064)\n",
      "LogisticRegression (recall, precision) (0.901, 0.047)\n"
     ]
    }
   ],
   "source": [
    "black_list=['Class','Time','Amount']\n",
    "features=[x for x in df.columns if x not in black_list ]\n",
    "X_cv = train.loc[:,features]\n",
    "y_cv = train.loc[:,'Class']\n",
    "\n",
    "for m in [RandomForestClassifier(max_depth=9, n_estimators=110, random_state=2019),\n",
    "          LogisticRegression(C=0.1,random_state=2019)]:\n",
    "    print(type(m).__name__,'(recall, precision)',cv_undersampling(m, X_cv, y_cv),)"
   ]
  },
  {
   "cell_type": "markdown",
   "metadata": {},
   "source": [
    "The result above are more reliable. Precision is very small. It is caused by udersampling. In validation set proportions of values are different than during training. Recall is much higher than during validation on full data set but models qualify many transactions as fraud when in fact they are normal. \n",
    "\n",
    "Let's check on validation data."
   ]
  },
  {
   "cell_type": "code",
   "execution_count": 50,
   "metadata": {},
   "outputs": [
    {
     "name": "stdout",
     "output_type": "stream",
     "text": [
      "RandomForestClassifier\n",
      "confusion matrix \n",
      " [[84301   994]\n",
      " [   19   129]]\n",
      "(rec,prec,f1) (0.872, 0.115, 0.203) \n",
      "\n",
      "LogisticRegression\n",
      "confusion matrix \n",
      " [[83097  2198]\n",
      " [   15   133]]\n",
      "(rec,prec,f1) (0.899, 0.057, 0.107) \n",
      "\n"
     ]
    }
   ],
   "source": [
    "for m in [RandomForestClassifier(max_depth=7, n_estimators=110, random_state=2019),\n",
    "          LogisticRegression(C=0.1, random_state=2019)]:\n",
    "    print('(rec,prec,f1)',validation(m, und_df, test),'\\n')"
   ]
  },
  {
   "cell_type": "markdown",
   "metadata": {},
   "source": [
    "Models are characterized by very high recall. Unfortunately, as it was expected all models have small precsion - a lot of transactions are incorectly classified as frauds. If we need high recall and loss of precision is acceptable, this approach might be worth considering. It is also important in some cases that this technique is computionally efficient. "
   ]
  },
  {
   "cell_type": "markdown",
   "metadata": {},
   "source": [
    "### Oversampling - SMOTE"
   ]
  },
  {
   "cell_type": "code",
   "execution_count": null,
   "metadata": {
    "collapsed": true
   },
   "outputs": [],
   "source": [
    "from imblearn.over_sampling import SMOTE"
   ]
  },
  {
   "cell_type": "markdown",
   "metadata": {},
   "source": [
    "Smote is a technique in which new synthetic points from minority class are beeing created in order to ensure balance between classes. As a result of SMOTE transformation we get bigger data set."
   ]
  },
  {
   "cell_type": "code",
   "execution_count": 51,
   "metadata": {},
   "outputs": [],
   "source": [
    "Xs = train.loc[:,features].values \n",
    "ys = train['Class'].values\n",
    "\n",
    "smote = SMOTE(random_state=2019, sampling_strategy='minority')\n",
    "X_resampled, y_resampled = smote.fit_sample(Xs, ys)"
   ]
  },
  {
   "cell_type": "code",
   "execution_count": 52,
   "metadata": {},
   "outputs": [
    {
     "name": "stdout",
     "output_type": "stream",
     "text": [
      "Number of fraud in undersampled set: 199020\n",
      "Number of non fraud in undersampled set: 199020\n"
     ]
    }
   ],
   "source": [
    "train_overs = pd.DataFrame(data=np.concatenate([X_resampled, y_resampled.reshape(-1,1)], axis=1), columns=features+['Class'])\n",
    "\n",
    "print('Number of fraud in undersampled set: {}'.format(len(X_resampled[y_resampled==1])))\n",
    "print('Number of non fraud in undersampled set: {}'.format(len(X_resampled[y_resampled==0])))"
   ]
  },
  {
   "cell_type": "markdown",
   "metadata": {},
   "source": [
    "After oversampling with SMOTE there are 199 020 fraud transactions in dataset. It is important to remember that most of them are not real so it reasonable to be cautious."
   ]
  },
  {
   "cell_type": "code",
   "execution_count": 53,
   "metadata": {
    "collapsed": true
   },
   "outputs": [],
   "source": [
    "def my_cv_os (m, xc, yc):\n",
    "    \n",
    "    cv = StratifiedKFold(n_splits=5, random_state=2019, shuffle=True) \n",
    "    scores_r = []\n",
    "    scores_p = []\n",
    "    \n",
    "    for train_idx, test_idx in cv.split(xc,yc):        \n",
    "        x_tr=xc.loc[train_idx]\n",
    "        y_tr=yc.loc[train_idx]\n",
    "        x_t=xc.loc[test_idx]\n",
    "        y_t=yc.loc[test_idx]\n",
    "        \n",
    "        method = SMOTE(random_state=2019)\n",
    "        X_resampled, y_resampled = method.fit_sample(x_tr, y_tr)\n",
    "        model=clone(m)\n",
    "        model.fit(X_resampled, y_resampled)\n",
    "        y_pred = model.predict(x_t)        \n",
    "        \n",
    "        score1 = recall_score(y_t, y_pred)\n",
    "        score2 = precision_score(y_t, y_pred)       \n",
    "        scores_r.append(score1)\n",
    "        scores_p.append(score2)   \n",
    "        \n",
    "    return (round(np.mean(scores_r),3),round(np.mean(scores_p),3))"
   ]
  },
  {
   "cell_type": "code",
   "execution_count": 54,
   "metadata": {
    "collapsed": true
   },
   "outputs": [],
   "source": [
    "models=[RandomForestClassifier(max_depth=9, n_estimators=120, random_state=2019),\n",
    "        LogisticRegression(solver='lbfgs', C=0.1, random_state=2019)]"
   ]
  },
  {
   "cell_type": "code",
   "execution_count": 55,
   "metadata": {},
   "outputs": [
    {
     "name": "stdout",
     "output_type": "stream",
     "text": [
      "RandomForestClassifier  (recall, precision)  (0.852, 0.531)\n",
      "LogisticRegression  (recall, precision)  (0.892, 0.076)\n"
     ]
    }
   ],
   "source": [
    "black_list=['Class','Time','Amount']\n",
    "features=[x for x in df.columns if x not in black_list ]\n",
    "\n",
    "X_cv = train.loc[:,features]\n",
    "y_cv = train.loc[:,'Class']\n",
    "\n",
    "for m in models:\n",
    "    print(type(m).__name__,' (recall, precision) ', my_cv_os(m, X_cv, y_cv))"
   ]
  },
  {
   "cell_type": "markdown",
   "metadata": {},
   "source": [
    "This technique allows to achieve higher precision than in undersampling with small loss of recall. "
   ]
  },
  {
   "cell_type": "markdown",
   "metadata": {},
   "source": [
    "#### Validation"
   ]
  },
  {
   "cell_type": "code",
   "execution_count": 56,
   "metadata": {},
   "outputs": [
    {
     "name": "stdout",
     "output_type": "stream",
     "text": [
      "RandomForestClassifier\n",
      "confusion matrix \n",
      " [[85191   104]\n",
      " [   21   127]]\n",
      "(rec, prec, f1) (0.858, 0.55, 0.67) \n",
      "\n",
      "LogisticRegression\n",
      "confusion matrix \n",
      " [[83375  1920]\n",
      " [   19   129]]\n",
      "(rec, prec, f1) (0.872, 0.063, 0.117) \n",
      "\n"
     ]
    }
   ],
   "source": [
    "for m in models:\n",
    "    print('(rec, prec, f1)',validation(m, train_overs, test),'\\n')"
   ]
  },
  {
   "cell_type": "markdown",
   "metadata": {},
   "source": [
    "Classificators still have high recall. The number of false positive is lower than in undersampling - precision is significantly higher (especially in case of RandomForestClassifier - increase from 12% to 55%).\n",
    "Models have omitted some fraud transactions - recall is smaller than using undersampling (about 2-5% decrease)."
   ]
  },
  {
   "cell_type": "markdown",
   "metadata": {},
   "source": [
    "##  <center> Summary of validation results  "
   ]
  },
  {
   "cell_type": "markdown",
   "metadata": {},
   "source": [
    "![title](img/res2.png)"
   ]
  },
  {
   "cell_type": "markdown",
   "metadata": {},
   "source": [
    "#### Conslusions: \n",
    "- all techniques have some advantages and disadvantages - choice of approach should be performed very carefully and should be based on clearly precised business requirements\n",
    "- working with such data is tricky, it is important to plan apropriate validation techniques\n",
    "- risk of overfitting in working with imbalanced data is very high\n"
   ]
  },
  {
   "cell_type": "markdown",
   "metadata": {},
   "source": [
    "#### To do:\n",
    "- pay more attention to hyperparameter tuning, use hyperopt or scikit optimize\n",
    "- try to combine algorithms, for example logistic regression and random forests\n",
    "- try to remove outliers\n",
    "- more feature engineering"
   ]
  }
 ],
 "metadata": {
  "kernelspec": {
   "display_name": "Python 3",
   "language": "python",
   "name": "python3"
  },
  "language_info": {
   "codemirror_mode": {
    "name": "ipython",
    "version": 3
   },
   "file_extension": ".py",
   "mimetype": "text/x-python",
   "name": "python",
   "nbconvert_exporter": "python",
   "pygments_lexer": "ipython3",
   "version": "3.6.3"
  }
 },
 "nbformat": 4,
 "nbformat_minor": 2
}
